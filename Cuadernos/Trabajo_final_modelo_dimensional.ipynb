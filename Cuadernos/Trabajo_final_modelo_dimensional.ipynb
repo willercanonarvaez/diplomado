{
 "cells": [
  {
   "cell_type": "markdown",
   "id": "dccafcf8",
   "metadata": {},
   "source": [
    "\n",
    "# Análisis Educativo con Modelo Estrella \n",
    "\n",
    "Este cuaderno analiza el sistema educativo colombiano cruzando fuentes oficiales del Ministerio de Educación, DIVIPOLA y proyecciones del DANE. Se construye un modelo estrella completo con dimensiones limpias y se responde a tres preguntas clave mediante SQL y visualizaciones.\n",
    "\n",
    "### Bases de datos utilizadas:\n",
    "| Fuente               | Descripción                                                            | Columnas clave                                                                                      |\n",
    "| -------------------- | ---------------------------------------------------------------------- | --------------------------------------------------------------------------------------------------- |\n",
    "| **DIVIPOLA**         | Códigos oficiales de municipios y departamentos                        | `Código Departamento`, `Código Municipio`, `Nombre Municipio`, `longitud`, `Latitud`                |\n",
    "| **MEN**              | Estadísticas educativas preescolar, básica y media por municipio y año | `AÑO`, `CÓDIGO_MUNICIPIO`, `CÓDIGO_DEPARTAMENTO`, `POBLACIÓN_5_16`, `APROBACIÓN`, `DESERCIÓN`, etc. |\n",
    "| **Info\\_2005\\_2019** | Proyección poblacional por municipio y área geográfica (rural/urbano)  | `DP`, `DPMP`, `AÑO`, `ÁREA GEOGRÁFICA`, `Población`                                                 |\n",
    "| **Info\\_2020\\_2035** | Proyección poblacional similar al anterior, años más recientes         | `DP`, `DPMP`, `AÑO`, `ÁREA GEOGRÁFICA`, `Población`                                                 |\n",
    "\n"
   ]
  },
  {
   "cell_type": "code",
   "execution_count": 35,
   "id": "a12ea819",
   "metadata": {},
   "outputs": [],
   "source": [
    "# ===================================================================\n",
    "# PASO 2: EXTRACCIÓN BASE PRINCIPAL \n",
    "# ===================================================================\n",
    "\n",
    "import pandas as pd\n",
    "men = pd.read_csv(\"C:/Users/wille/OneDrive/Documents/diplomado/Datos/MEN_ESTADISTICAS_EN_EDUCACION_EN_PREESCOLAR__B_SICA_Y_MEDIA_POR_MUNICIPIO_20250722.csv\")"
   ]
  },
  {
   "cell_type": "markdown",
   "id": "d9044c9a",
   "metadata": {},
   "source": [
    "## Información base de datos\n",
    "\n",
    "La base de datos cuenta con 14.585 registros y 41 variables, de las cuales 34 son de tipo numérico, 4 son categóricas (texto) y 3 son enteras. La información está organizada por municipio y año, e incluye métricas clave como tasas de matrícula, cobertura neta y bruta, aprobación, reprobación, deserción y repitencia, lo que permite realizar análisis detallados sobre la situación educativa en Colombia."
   ]
  },
  {
   "cell_type": "code",
   "execution_count": 36,
   "id": "3b97ef53",
   "metadata": {},
   "outputs": [],
   "source": [
    "# ===================================================================\n",
    "# PASO 3: EXTRACCIÓN BASE DIVIPOLA \n",
    "# ===================================================================\n",
    "\n",
    "import pandas as pd\n",
    "divipola = pd.read_csv(\"C:/Users/wille/OneDrive/Documents/diplomado/Datos/DIVIPOLA-_C_digos_municipios_20250723.csv\")"
   ]
  },
  {
   "cell_type": "markdown",
   "id": "4ba5bf88",
   "metadata": {},
   "source": [
    "## Información base de datos\n",
    "\n",
    "La base de datos DIVIPOLA contiene información geográfica y administrativa de los municipios de Colombia. Está compuesta por 1,122 registros y 7 columnas, que incluyen datos como el código y nombre del departamento, código y nombre del municipio, tipo de entidad (municipio, isla o área no municipalizada), y coordenadas geográficas (latitud y longitud). En cuanto a los tipos de datos, hay 5 columnas de tipo texto y 2 columnas numéricas que son latitud y longitud."
   ]
  },
  {
   "cell_type": "code",
   "execution_count": 37,
   "id": "1c0a9d63",
   "metadata": {},
   "outputs": [
    {
     "name": "stdout",
     "output_type": "stream",
     "text": [
      "DIVIPOLA: (1122, 7)\n",
      "MEN: (14585, 41)\n",
      "Proyecciones poblacionales: (104346, 7)\n",
      "\n",
      "Columnas MEN:\n",
      "Index(['AÑO', 'CÓDIGO_MUNICIPIO', 'MUNICIPIO', 'CÓDIGO_DEPARTAMENTO',\n",
      "       'DEPARTAMENTO', 'CÓDIGO_ETC', 'ETC', 'POBLACIÓN_5_16',\n",
      "       'TASA_MATRICULACIÓN_5_16', 'COBERTURA_NETA'],\n",
      "      dtype='object')\n"
     ]
    }
   ],
   "source": [
    "\n",
    "import pandas as pd\n",
    "\n",
    "# Cargar datos del DANE\n",
    "\n",
    "info_1 = pd.read_excel(f\"C:/Users/wille/OneDrive/Documents/diplomado/Datos/Info_2005_2019.xlsx\")\n",
    "info_2 = pd.read_excel(f\"C:/Users/wille/OneDrive/Documents/diplomado/Datos/Info_2020_2035.xlsx\")\n",
    "\n",
    "\n",
    "# Unir proyecciones de población\n",
    "pob = pd.concat([info_1, info_2], ignore_index=True)\n",
    "\n",
    "# Mostrar forma de cada base\n",
    "print(\"DIVIPOLA:\", divipola.shape)\n",
    "print(\"MEN:\", men.shape)\n",
    "print(\"Proyecciones poblacionales:\", pob.shape)\n",
    "\n",
    "print(\"\\nColumnas MEN:\")\n",
    "print(men.columns[:10])\n"
   ]
  },
  {
   "cell_type": "code",
   "execution_count": 38,
   "id": "4ddec469",
   "metadata": {},
   "outputs": [
    {
     "name": "stdout",
     "output_type": "stream",
     "text": [
      "Match con DIVIPOLA: 0.9749057250599932\n"
     ]
    }
   ],
   "source": [
    "\n",
    "def limpiar_texto(s):\n",
    "    return (\n",
    "        str(s).strip().lower()\n",
    "        .replace(\"á\", \"a\").replace(\"é\", \"e\")\n",
    "        .replace(\"í\", \"i\").replace(\"ó\", \"o\").replace(\"ú\", \"u\")\n",
    "        .replace(\"ñ\", \"n\")\n",
    "    )\n",
    "\n",
    "# Limpiar nombres\n",
    "men['MUNICIPIO_CLEAN'] = men['MUNICIPIO'].map(limpiar_texto)\n",
    "men['DEPARTAMENTO_CLEAN'] = men['DEPARTAMENTO'].map(limpiar_texto)\n",
    "divipola['Nombre Municipio CLEAN'] = divipola['Nombre Municipio'].map(limpiar_texto)\n",
    "divipola['Nombre Departamento CLEAN'] = divipola['Nombre Departamento'].map(limpiar_texto)\n",
    "\n",
    "# Unión\n",
    "men_geo = men.merge(divipola, \n",
    "    left_on=['MUNICIPIO_CLEAN', 'DEPARTAMENTO_CLEAN'],\n",
    "    right_on=['Nombre Municipio CLEAN', 'Nombre Departamento CLEAN'],\n",
    "    how='left'\n",
    ")\n",
    "\n",
    "# Verificar % unión\n",
    "print(\"Match con DIVIPOLA:\", men_geo['Código Municipio'].notna().mean())\n"
   ]
  },
  {
   "cell_type": "markdown",
   "id": "1f6064b5",
   "metadata": {},
   "source": [
    "# Dimensiones "
   ]
  },
  {
   "cell_type": "code",
   "execution_count": 39,
   "id": "00dcd440",
   "metadata": {},
   "outputs": [],
   "source": [
    "\n",
    "# Dimensión geografía\n",
    "dim_geo = men_geo[['Código Departamento', 'Nombre Departamento', 'Código Municipio', 'Nombre Municipio', 'Latitud', 'longitud']]\n",
    "dim_geo = dim_geo.drop_duplicates().rename(columns={\n",
    "    'Código Departamento': 'codigo_departamento',\n",
    "    'Nombre Departamento': 'departamento',\n",
    "    'Código Municipio': 'codigo_municipio',\n",
    "    'Nombre Municipio': 'municipio',\n",
    "    'Latitud': 'latitud',\n",
    "    'longitud': 'longitud'\n",
    "})\n",
    "dim_geo['id_geografia'] = dim_geo.index + 1\n",
    "\n",
    "# Dimensión tiempo\n",
    "dim_tiempo = men_geo[['AÑO']].drop_duplicates().sort_values(by='AÑO').reset_index(drop=True)\n",
    "dim_tiempo['id_tiempo'] = dim_tiempo.index + 1\n",
    "\n",
    "# Tabla de hechos\n",
    "men_geo['POBLACIÓN_5_16'] = pd.to_numeric(men_geo['POBLACIÓN_5_16'], errors='coerce')\n",
    "men_geo['TASA_MATRICULACIÓN_5_16'] = pd.to_numeric(men_geo['TASA_MATRICULACIÓN_5_16'], errors='coerce')\n",
    "men_geo['total_matriculados'] = (men_geo['POBLACIÓN_5_16'] * men_geo['TASA_MATRICULACIÓN_5_16'] / 100).round()\n",
    "\n",
    "men_geo = men_geo.merge(dim_geo, left_on=['Código Municipio', 'Código Departamento'], right_on=['codigo_municipio', 'codigo_departamento'])\n",
    "men_geo = men_geo.merge(dim_tiempo, on='AÑO')\n",
    "\n",
    "fact = men_geo[[\n",
    "    'id_geografia', 'id_tiempo', 'POBLACIÓN_5_16', 'TASA_MATRICULACIÓN_5_16',\n",
    "    'COBERTURA_NETA', 'APROBACIÓN', 'DESERCIÓN', 'total_matriculados'\n",
    "]]"
   ]
  },
  {
   "cell_type": "markdown",
   "id": "f2c5fa69",
   "metadata": {},
   "source": [
    "En esta parte del proceso se construyó la dimensión geografía, la cual permite identificar de forma única cada municipio y su respectiva ubicación dentro del país. Para ello, se seleccionaron las variables relacionadas con el código y nombre del departamento, el código y nombre del municipio, y las coordenadas geográficas (latitud y longitud). Luego, se eliminaron los registros duplicados para evitar redundancias y se renombraron las columnas con nombres más uniformes. Finalmente, se creó una columna llamada id_geografia, que asigna un identificador único a cada combinación geográfica. Esta dimensión será clave para relacionar los datos territoriales con las demás tablas del modelo.\n",
    "\n"
   ]
  },
  {
   "cell_type": "markdown",
   "id": "e9c87893",
   "metadata": {},
   "source": [
    "En esta etapa se construyó la dimensión tiempo, la cual permite organizar y analizar los datos de forma temporal. Para ello, se tomó la variable AÑO proveniente de la base unificada men_geo, se eliminaron los valores duplicados y se ordenaron de manera ascendente. Posteriormente, se generó una nueva columna llamada id_tiempo, que asigna un identificador único a cada año. Esta dimensión es fundamental para realizar análisis por periodos y facilitar la relación temporal con los registros de la tabla de hechos."
   ]
  },
  {
   "cell_type": "markdown",
   "id": "319342d6",
   "metadata": {},
   "source": [
    "## 1. ¿Qué porcentaje de escolaridad hay por municipio?"
   ]
  },
  {
   "cell_type": "code",
   "execution_count": 40,
   "id": "28dd8287",
   "metadata": {},
   "outputs": [
    {
     "data": {
      "text/html": [
       "<div>\n",
       "<style scoped>\n",
       "    .dataframe tbody tr th:only-of-type {\n",
       "        vertical-align: middle;\n",
       "    }\n",
       "\n",
       "    .dataframe tbody tr th {\n",
       "        vertical-align: top;\n",
       "    }\n",
       "\n",
       "    .dataframe thead th {\n",
       "        text-align: right;\n",
       "    }\n",
       "</style>\n",
       "<table border=\"1\" class=\"dataframe\">\n",
       "  <thead>\n",
       "    <tr style=\"text-align: right;\">\n",
       "      <th></th>\n",
       "      <th>departamento</th>\n",
       "      <th>municipio</th>\n",
       "      <th>matriculados</th>\n",
       "      <th>poblacion</th>\n",
       "      <th>pct_escolaridad</th>\n",
       "    </tr>\n",
       "  </thead>\n",
       "  <tbody>\n",
       "    <tr>\n",
       "      <th>0</th>\n",
       "      <td>CUNDINAMARCA</td>\n",
       "      <td>LA CALERA</td>\n",
       "      <td>94065.0</td>\n",
       "      <td>65694.705</td>\n",
       "      <td>143.19</td>\n",
       "    </tr>\n",
       "    <tr>\n",
       "      <th>1</th>\n",
       "      <td>QUINDÍO</td>\n",
       "      <td>SALENTO</td>\n",
       "      <td>24481.0</td>\n",
       "      <td>17606.503</td>\n",
       "      <td>139.05</td>\n",
       "    </tr>\n",
       "    <tr>\n",
       "      <th>2</th>\n",
       "      <td>CUNDINAMARCA</td>\n",
       "      <td>COTA</td>\n",
       "      <td>93044.0</td>\n",
       "      <td>69570.178</td>\n",
       "      <td>133.74</td>\n",
       "    </tr>\n",
       "    <tr>\n",
       "      <th>3</th>\n",
       "      <td>ATLÁNTICO</td>\n",
       "      <td>PUERTO COLOMBIA</td>\n",
       "      <td>115880.0</td>\n",
       "      <td>88761.330</td>\n",
       "      <td>130.55</td>\n",
       "    </tr>\n",
       "    <tr>\n",
       "      <th>4</th>\n",
       "      <td>CUNDINAMARCA</td>\n",
       "      <td>SUBACHOQUE</td>\n",
       "      <td>47486.0</td>\n",
       "      <td>37228.105</td>\n",
       "      <td>127.55</td>\n",
       "    </tr>\n",
       "    <tr>\n",
       "      <th>5</th>\n",
       "      <td>SANTANDER</td>\n",
       "      <td>PUENTE NACIONAL</td>\n",
       "      <td>39282.0</td>\n",
       "      <td>31081.647</td>\n",
       "      <td>126.38</td>\n",
       "    </tr>\n",
       "    <tr>\n",
       "      <th>6</th>\n",
       "      <td>CUNDINAMARCA</td>\n",
       "      <td>FÚQUENE</td>\n",
       "      <td>16635.0</td>\n",
       "      <td>13297.003</td>\n",
       "      <td>125.10</td>\n",
       "    </tr>\n",
       "    <tr>\n",
       "      <th>7</th>\n",
       "      <td>CUNDINAMARCA</td>\n",
       "      <td>VENECIA</td>\n",
       "      <td>11548.0</td>\n",
       "      <td>9463.000</td>\n",
       "      <td>122.03</td>\n",
       "    </tr>\n",
       "    <tr>\n",
       "      <th>8</th>\n",
       "      <td>NARIÑO</td>\n",
       "      <td>ALDANA</td>\n",
       "      <td>17609.0</td>\n",
       "      <td>14486.213</td>\n",
       "      <td>121.56</td>\n",
       "    </tr>\n",
       "    <tr>\n",
       "      <th>9</th>\n",
       "      <td>SANTANDER</td>\n",
       "      <td>JORDÁN</td>\n",
       "      <td>3950.0</td>\n",
       "      <td>3255.000</td>\n",
       "      <td>121.35</td>\n",
       "    </tr>\n",
       "    <tr>\n",
       "      <th>10</th>\n",
       "      <td>CESAR</td>\n",
       "      <td>EL PASO</td>\n",
       "      <td>118990.0</td>\n",
       "      <td>98313.983</td>\n",
       "      <td>121.03</td>\n",
       "    </tr>\n",
       "    <tr>\n",
       "      <th>11</th>\n",
       "      <td>META</td>\n",
       "      <td>GUAMAL</td>\n",
       "      <td>34029.0</td>\n",
       "      <td>28218.877</td>\n",
       "      <td>120.59</td>\n",
       "    </tr>\n",
       "    <tr>\n",
       "      <th>12</th>\n",
       "      <td>SANTANDER</td>\n",
       "      <td>SAN GIL</td>\n",
       "      <td>132151.0</td>\n",
       "      <td>109675.390</td>\n",
       "      <td>120.49</td>\n",
       "    </tr>\n",
       "    <tr>\n",
       "      <th>13</th>\n",
       "      <td>BOYACÁ</td>\n",
       "      <td>SORACÁ</td>\n",
       "      <td>19421.0</td>\n",
       "      <td>16270.420</td>\n",
       "      <td>119.36</td>\n",
       "    </tr>\n",
       "    <tr>\n",
       "      <th>14</th>\n",
       "      <td>ANTIOQUIA</td>\n",
       "      <td>MACEO</td>\n",
       "      <td>21962.0</td>\n",
       "      <td>18508.717</td>\n",
       "      <td>118.66</td>\n",
       "    </tr>\n",
       "  </tbody>\n",
       "</table>\n",
       "</div>"
      ],
      "text/plain": [
       "    departamento        municipio  matriculados   poblacion  pct_escolaridad\n",
       "0   CUNDINAMARCA        LA CALERA       94065.0   65694.705           143.19\n",
       "1        QUINDÍO          SALENTO       24481.0   17606.503           139.05\n",
       "2   CUNDINAMARCA             COTA       93044.0   69570.178           133.74\n",
       "3      ATLÁNTICO  PUERTO COLOMBIA      115880.0   88761.330           130.55\n",
       "4   CUNDINAMARCA       SUBACHOQUE       47486.0   37228.105           127.55\n",
       "5      SANTANDER  PUENTE NACIONAL       39282.0   31081.647           126.38\n",
       "6   CUNDINAMARCA          FÚQUENE       16635.0   13297.003           125.10\n",
       "7   CUNDINAMARCA          VENECIA       11548.0    9463.000           122.03\n",
       "8         NARIÑO           ALDANA       17609.0   14486.213           121.56\n",
       "9      SANTANDER           JORDÁN        3950.0    3255.000           121.35\n",
       "10         CESAR          EL PASO      118990.0   98313.983           121.03\n",
       "11          META           GUAMAL       34029.0   28218.877           120.59\n",
       "12     SANTANDER          SAN GIL      132151.0  109675.390           120.49\n",
       "13        BOYACÁ           SORACÁ       19421.0   16270.420           119.36\n",
       "14     ANTIOQUIA            MACEO       21962.0   18508.717           118.66"
      ]
     },
     "execution_count": 40,
     "metadata": {},
     "output_type": "execute_result"
    }
   ],
   "source": [
    "\n",
    "import sqlite3\n",
    "conn = sqlite3.connect(':memory:')\n",
    "dim_geo.to_sql('Dim_Geografia', conn, index=False)\n",
    "dim_tiempo.to_sql('Dim_Tiempo', conn, index=False)\n",
    "fact.to_sql('Fact_Matriculas', conn, index=False)\n",
    "\n",
    "# Consulta: Escolaridad\n",
    "query1 = '''\n",
    "SELECT g.departamento, g.municipio,\n",
    "       SUM(f.total_matriculados) AS matriculados,\n",
    "       SUM(f.POBLACIÓN_5_16) AS poblacion,\n",
    "       ROUND(100.0 * SUM(f.total_matriculados)/SUM(f.POBLACIÓN_5_16), 2) AS pct_escolaridad\n",
    "FROM Fact_Matriculas f\n",
    "JOIN Dim_Geografia g ON f.id_geografia = g.id_geografia\n",
    "WHERE f.POBLACIÓN_5_16 > 0\n",
    "GROUP BY g.departamento, g.municipio\n",
    "ORDER BY pct_escolaridad DESC\n",
    "LIMIT 15;\n",
    "'''\n",
    "pd.read_sql_query(query1, conn)\n"
   ]
  },
  {
   "cell_type": "code",
   "execution_count": 46,
   "id": "89aba305",
   "metadata": {},
   "outputs": [
    {
     "data": {
      "application/vnd.plotly.v1+json": {
       "config": {
        "plotlyServerURL": "https://plot.ly"
       },
       "data": [
        {
         "hovertemplate": "Porcentaje de Escolaridad (%)=%{marker.color}<br>Ubicación=%{y}<extra></extra>",
         "legendgroup": "",
         "marker": {
          "color": {
           "bdata": "rkfhehTmYUCamZmZmWFhQEjhehSut2BAmpmZmZlRYEAzMzMzM+NfQLgehetRmF9AZmZmZmZGX0BSuB6F64FeQKRwPQrXY15AZmZmZmZWXkBSuB6F60FeQPYoXI/CJV5Aj8L1KFwfXkDXo3A9CtddQArXo3A9ql1A",
           "dtype": "f8"
          },
          "coloraxis": "coloraxis",
          "pattern": {
           "shape": ""
          }
         },
         "name": "",
         "orientation": "h",
         "showlegend": false,
         "text": {
          "bdata": "rkfhehTmYUCamZmZmWFhQEjhehSut2BAmpmZmZlRYEAzMzMzM+NfQLgehetRmF9AZmZmZmZGX0BSuB6F64FeQKRwPQrXY15AZmZmZmZWXkBSuB6F60FeQPYoXI/CJV5Aj8L1KFwfXkDXo3A9CtddQArXo3A9ql1A",
          "dtype": "f8"
         },
         "textposition": "outside",
         "texttemplate": "%{text:.2f}%",
         "type": "bar",
         "x": {
          "bdata": "rkfhehTmYUCamZmZmWFhQEjhehSut2BAmpmZmZlRYEAzMzMzM+NfQLgehetRmF9AZmZmZmZGX0BSuB6F64FeQKRwPQrXY15AZmZmZmZWXkBSuB6F60FeQPYoXI/CJV5Aj8L1KFwfXkDXo3A9CtddQArXo3A9ql1A",
          "dtype": "f8"
         },
         "xaxis": "x",
         "y": [
          "CUNDINAMARCA - LA CALERA",
          "QUINDÍO - SALENTO",
          "CUNDINAMARCA - COTA",
          "ATLÁNTICO - PUERTO COLOMBIA",
          "CUNDINAMARCA - SUBACHOQUE",
          "SANTANDER - PUENTE NACIONAL",
          "CUNDINAMARCA - FÚQUENE",
          "CUNDINAMARCA - VENECIA",
          "NARIÑO - ALDANA",
          "SANTANDER - JORDÁN",
          "CESAR - EL PASO",
          "META - GUAMAL",
          "SANTANDER - SAN GIL",
          "BOYACÁ - SORACÁ",
          "ANTIOQUIA - MACEO"
         ],
         "yaxis": "y"
        }
       ],
       "layout": {
        "barmode": "relative",
        "coloraxis": {
         "colorbar": {
          "title": {
           "text": "Porcentaje de Escolaridad (%)"
          }
         },
         "colorscale": [
          [
           0,
           "rgb(176, 242, 188)"
          ],
          [
           0.16666666666666666,
           "rgb(137, 232, 172)"
          ],
          [
           0.3333333333333333,
           "rgb(103, 219, 165)"
          ],
          [
           0.5,
           "rgb(76, 200, 163)"
          ],
          [
           0.6666666666666666,
           "rgb(56, 178, 163)"
          ],
          [
           0.8333333333333334,
           "rgb(44, 152, 160)"
          ],
          [
           1,
           "rgb(37, 125, 152)"
          ]
         ]
        },
        "legend": {
         "tracegroupgap": 0
        },
        "margin": {
         "b": 40,
         "l": 120,
         "r": 20,
         "t": 80
        },
        "plot_bgcolor": "white",
        "template": {
         "data": {
          "bar": [
           {
            "error_x": {
             "color": "#2a3f5f"
            },
            "error_y": {
             "color": "#2a3f5f"
            },
            "marker": {
             "line": {
              "color": "#E5ECF6",
              "width": 0.5
             },
             "pattern": {
              "fillmode": "overlay",
              "size": 10,
              "solidity": 0.2
             }
            },
            "type": "bar"
           }
          ],
          "barpolar": [
           {
            "marker": {
             "line": {
              "color": "#E5ECF6",
              "width": 0.5
             },
             "pattern": {
              "fillmode": "overlay",
              "size": 10,
              "solidity": 0.2
             }
            },
            "type": "barpolar"
           }
          ],
          "carpet": [
           {
            "aaxis": {
             "endlinecolor": "#2a3f5f",
             "gridcolor": "white",
             "linecolor": "white",
             "minorgridcolor": "white",
             "startlinecolor": "#2a3f5f"
            },
            "baxis": {
             "endlinecolor": "#2a3f5f",
             "gridcolor": "white",
             "linecolor": "white",
             "minorgridcolor": "white",
             "startlinecolor": "#2a3f5f"
            },
            "type": "carpet"
           }
          ],
          "choropleth": [
           {
            "colorbar": {
             "outlinewidth": 0,
             "ticks": ""
            },
            "type": "choropleth"
           }
          ],
          "contour": [
           {
            "colorbar": {
             "outlinewidth": 0,
             "ticks": ""
            },
            "colorscale": [
             [
              0,
              "#0d0887"
             ],
             [
              0.1111111111111111,
              "#46039f"
             ],
             [
              0.2222222222222222,
              "#7201a8"
             ],
             [
              0.3333333333333333,
              "#9c179e"
             ],
             [
              0.4444444444444444,
              "#bd3786"
             ],
             [
              0.5555555555555556,
              "#d8576b"
             ],
             [
              0.6666666666666666,
              "#ed7953"
             ],
             [
              0.7777777777777778,
              "#fb9f3a"
             ],
             [
              0.8888888888888888,
              "#fdca26"
             ],
             [
              1,
              "#f0f921"
             ]
            ],
            "type": "contour"
           }
          ],
          "contourcarpet": [
           {
            "colorbar": {
             "outlinewidth": 0,
             "ticks": ""
            },
            "type": "contourcarpet"
           }
          ],
          "heatmap": [
           {
            "colorbar": {
             "outlinewidth": 0,
             "ticks": ""
            },
            "colorscale": [
             [
              0,
              "#0d0887"
             ],
             [
              0.1111111111111111,
              "#46039f"
             ],
             [
              0.2222222222222222,
              "#7201a8"
             ],
             [
              0.3333333333333333,
              "#9c179e"
             ],
             [
              0.4444444444444444,
              "#bd3786"
             ],
             [
              0.5555555555555556,
              "#d8576b"
             ],
             [
              0.6666666666666666,
              "#ed7953"
             ],
             [
              0.7777777777777778,
              "#fb9f3a"
             ],
             [
              0.8888888888888888,
              "#fdca26"
             ],
             [
              1,
              "#f0f921"
             ]
            ],
            "type": "heatmap"
           }
          ],
          "histogram": [
           {
            "marker": {
             "pattern": {
              "fillmode": "overlay",
              "size": 10,
              "solidity": 0.2
             }
            },
            "type": "histogram"
           }
          ],
          "histogram2d": [
           {
            "colorbar": {
             "outlinewidth": 0,
             "ticks": ""
            },
            "colorscale": [
             [
              0,
              "#0d0887"
             ],
             [
              0.1111111111111111,
              "#46039f"
             ],
             [
              0.2222222222222222,
              "#7201a8"
             ],
             [
              0.3333333333333333,
              "#9c179e"
             ],
             [
              0.4444444444444444,
              "#bd3786"
             ],
             [
              0.5555555555555556,
              "#d8576b"
             ],
             [
              0.6666666666666666,
              "#ed7953"
             ],
             [
              0.7777777777777778,
              "#fb9f3a"
             ],
             [
              0.8888888888888888,
              "#fdca26"
             ],
             [
              1,
              "#f0f921"
             ]
            ],
            "type": "histogram2d"
           }
          ],
          "histogram2dcontour": [
           {
            "colorbar": {
             "outlinewidth": 0,
             "ticks": ""
            },
            "colorscale": [
             [
              0,
              "#0d0887"
             ],
             [
              0.1111111111111111,
              "#46039f"
             ],
             [
              0.2222222222222222,
              "#7201a8"
             ],
             [
              0.3333333333333333,
              "#9c179e"
             ],
             [
              0.4444444444444444,
              "#bd3786"
             ],
             [
              0.5555555555555556,
              "#d8576b"
             ],
             [
              0.6666666666666666,
              "#ed7953"
             ],
             [
              0.7777777777777778,
              "#fb9f3a"
             ],
             [
              0.8888888888888888,
              "#fdca26"
             ],
             [
              1,
              "#f0f921"
             ]
            ],
            "type": "histogram2dcontour"
           }
          ],
          "mesh3d": [
           {
            "colorbar": {
             "outlinewidth": 0,
             "ticks": ""
            },
            "type": "mesh3d"
           }
          ],
          "parcoords": [
           {
            "line": {
             "colorbar": {
              "outlinewidth": 0,
              "ticks": ""
             }
            },
            "type": "parcoords"
           }
          ],
          "pie": [
           {
            "automargin": true,
            "type": "pie"
           }
          ],
          "scatter": [
           {
            "fillpattern": {
             "fillmode": "overlay",
             "size": 10,
             "solidity": 0.2
            },
            "type": "scatter"
           }
          ],
          "scatter3d": [
           {
            "line": {
             "colorbar": {
              "outlinewidth": 0,
              "ticks": ""
             }
            },
            "marker": {
             "colorbar": {
              "outlinewidth": 0,
              "ticks": ""
             }
            },
            "type": "scatter3d"
           }
          ],
          "scattercarpet": [
           {
            "marker": {
             "colorbar": {
              "outlinewidth": 0,
              "ticks": ""
             }
            },
            "type": "scattercarpet"
           }
          ],
          "scattergeo": [
           {
            "marker": {
             "colorbar": {
              "outlinewidth": 0,
              "ticks": ""
             }
            },
            "type": "scattergeo"
           }
          ],
          "scattergl": [
           {
            "marker": {
             "colorbar": {
              "outlinewidth": 0,
              "ticks": ""
             }
            },
            "type": "scattergl"
           }
          ],
          "scattermap": [
           {
            "marker": {
             "colorbar": {
              "outlinewidth": 0,
              "ticks": ""
             }
            },
            "type": "scattermap"
           }
          ],
          "scattermapbox": [
           {
            "marker": {
             "colorbar": {
              "outlinewidth": 0,
              "ticks": ""
             }
            },
            "type": "scattermapbox"
           }
          ],
          "scatterpolar": [
           {
            "marker": {
             "colorbar": {
              "outlinewidth": 0,
              "ticks": ""
             }
            },
            "type": "scatterpolar"
           }
          ],
          "scatterpolargl": [
           {
            "marker": {
             "colorbar": {
              "outlinewidth": 0,
              "ticks": ""
             }
            },
            "type": "scatterpolargl"
           }
          ],
          "scatterternary": [
           {
            "marker": {
             "colorbar": {
              "outlinewidth": 0,
              "ticks": ""
             }
            },
            "type": "scatterternary"
           }
          ],
          "surface": [
           {
            "colorbar": {
             "outlinewidth": 0,
             "ticks": ""
            },
            "colorscale": [
             [
              0,
              "#0d0887"
             ],
             [
              0.1111111111111111,
              "#46039f"
             ],
             [
              0.2222222222222222,
              "#7201a8"
             ],
             [
              0.3333333333333333,
              "#9c179e"
             ],
             [
              0.4444444444444444,
              "#bd3786"
             ],
             [
              0.5555555555555556,
              "#d8576b"
             ],
             [
              0.6666666666666666,
              "#ed7953"
             ],
             [
              0.7777777777777778,
              "#fb9f3a"
             ],
             [
              0.8888888888888888,
              "#fdca26"
             ],
             [
              1,
              "#f0f921"
             ]
            ],
            "type": "surface"
           }
          ],
          "table": [
           {
            "cells": {
             "fill": {
              "color": "#EBF0F8"
             },
             "line": {
              "color": "white"
             }
            },
            "header": {
             "fill": {
              "color": "#C8D4E3"
             },
             "line": {
              "color": "white"
             }
            },
            "type": "table"
           }
          ]
         },
         "layout": {
          "annotationdefaults": {
           "arrowcolor": "#2a3f5f",
           "arrowhead": 0,
           "arrowwidth": 1
          },
          "autotypenumbers": "strict",
          "coloraxis": {
           "colorbar": {
            "outlinewidth": 0,
            "ticks": ""
           }
          },
          "colorscale": {
           "diverging": [
            [
             0,
             "#8e0152"
            ],
            [
             0.1,
             "#c51b7d"
            ],
            [
             0.2,
             "#de77ae"
            ],
            [
             0.3,
             "#f1b6da"
            ],
            [
             0.4,
             "#fde0ef"
            ],
            [
             0.5,
             "#f7f7f7"
            ],
            [
             0.6,
             "#e6f5d0"
            ],
            [
             0.7,
             "#b8e186"
            ],
            [
             0.8,
             "#7fbc41"
            ],
            [
             0.9,
             "#4d9221"
            ],
            [
             1,
             "#276419"
            ]
           ],
           "sequential": [
            [
             0,
             "#0d0887"
            ],
            [
             0.1111111111111111,
             "#46039f"
            ],
            [
             0.2222222222222222,
             "#7201a8"
            ],
            [
             0.3333333333333333,
             "#9c179e"
            ],
            [
             0.4444444444444444,
             "#bd3786"
            ],
            [
             0.5555555555555556,
             "#d8576b"
            ],
            [
             0.6666666666666666,
             "#ed7953"
            ],
            [
             0.7777777777777778,
             "#fb9f3a"
            ],
            [
             0.8888888888888888,
             "#fdca26"
            ],
            [
             1,
             "#f0f921"
            ]
           ],
           "sequentialminus": [
            [
             0,
             "#0d0887"
            ],
            [
             0.1111111111111111,
             "#46039f"
            ],
            [
             0.2222222222222222,
             "#7201a8"
            ],
            [
             0.3333333333333333,
             "#9c179e"
            ],
            [
             0.4444444444444444,
             "#bd3786"
            ],
            [
             0.5555555555555556,
             "#d8576b"
            ],
            [
             0.6666666666666666,
             "#ed7953"
            ],
            [
             0.7777777777777778,
             "#fb9f3a"
            ],
            [
             0.8888888888888888,
             "#fdca26"
            ],
            [
             1,
             "#f0f921"
            ]
           ]
          },
          "colorway": [
           "#636efa",
           "#EF553B",
           "#00cc96",
           "#ab63fa",
           "#FFA15A",
           "#19d3f3",
           "#FF6692",
           "#B6E880",
           "#FF97FF",
           "#FECB52"
          ],
          "font": {
           "color": "#2a3f5f"
          },
          "geo": {
           "bgcolor": "white",
           "lakecolor": "white",
           "landcolor": "#E5ECF6",
           "showlakes": true,
           "showland": true,
           "subunitcolor": "white"
          },
          "hoverlabel": {
           "align": "left"
          },
          "hovermode": "closest",
          "mapbox": {
           "style": "light"
          },
          "paper_bgcolor": "white",
          "plot_bgcolor": "#E5ECF6",
          "polar": {
           "angularaxis": {
            "gridcolor": "white",
            "linecolor": "white",
            "ticks": ""
           },
           "bgcolor": "#E5ECF6",
           "radialaxis": {
            "gridcolor": "white",
            "linecolor": "white",
            "ticks": ""
           }
          },
          "scene": {
           "xaxis": {
            "backgroundcolor": "#E5ECF6",
            "gridcolor": "white",
            "gridwidth": 2,
            "linecolor": "white",
            "showbackground": true,
            "ticks": "",
            "zerolinecolor": "white"
           },
           "yaxis": {
            "backgroundcolor": "#E5ECF6",
            "gridcolor": "white",
            "gridwidth": 2,
            "linecolor": "white",
            "showbackground": true,
            "ticks": "",
            "zerolinecolor": "white"
           },
           "zaxis": {
            "backgroundcolor": "#E5ECF6",
            "gridcolor": "white",
            "gridwidth": 2,
            "linecolor": "white",
            "showbackground": true,
            "ticks": "",
            "zerolinecolor": "white"
           }
          },
          "shapedefaults": {
           "line": {
            "color": "#2a3f5f"
           }
          },
          "ternary": {
           "aaxis": {
            "gridcolor": "white",
            "linecolor": "white",
            "ticks": ""
           },
           "baxis": {
            "gridcolor": "white",
            "linecolor": "white",
            "ticks": ""
           },
           "bgcolor": "#E5ECF6",
           "caxis": {
            "gridcolor": "white",
            "linecolor": "white",
            "ticks": ""
           }
          },
          "title": {
           "x": 0.05
          },
          "xaxis": {
           "automargin": true,
           "gridcolor": "white",
           "linecolor": "white",
           "ticks": "",
           "title": {
            "standoff": 15
           },
           "zerolinecolor": "white",
           "zerolinewidth": 2
          },
          "yaxis": {
           "automargin": true,
           "gridcolor": "white",
           "linecolor": "white",
           "ticks": "",
           "title": {
            "standoff": 15
           },
           "zerolinecolor": "white",
           "zerolinewidth": 2
          }
         }
        },
        "title": {
         "font": {
          "size": 18
         },
         "text": "📚 Top 15 municipios con mayor porcentaje de escolaridad (5 a 16 años)"
        },
        "xaxis": {
         "anchor": "y",
         "domain": [
          0,
          1
         ],
         "title": {
          "text": "Porcentaje de Escolaridad (%)"
         }
        },
        "yaxis": {
         "anchor": "x",
         "autorange": "reversed",
         "domain": [
          0,
          1
         ],
         "title": {
          "text": "Ubicación"
         }
        }
       }
      }
     },
     "metadata": {},
     "output_type": "display_data"
    }
   ],
   "source": [
    "import plotly.express as px\n",
    "import pandas as pd\n",
    "\n",
    "# Asegúrate de que este DataFrame es el resultado del query1\n",
    "df_escolaridad = pd.read_sql_query(query1, conn)\n",
    "\n",
    "# Ordenar por escolaridad descendente y tomar el top 15\n",
    "df_top15 = df_escolaridad.sort_values(by='pct_escolaridad', ascending=False).head(15)\n",
    "\n",
    "# Crear una etiqueta para el eje Y (departamento + municipio)\n",
    "df_top15['ubicacion'] = df_top15['departamento'] + ' - ' + df_top15['municipio']\n",
    "\n",
    "# Crear gráfico interactivo\n",
    "fig = px.bar(\n",
    "    df_top15,\n",
    "    x='pct_escolaridad',\n",
    "    y='ubicacion',\n",
    "    orientation='h',\n",
    "    text='pct_escolaridad',\n",
    "    color='pct_escolaridad',\n",
    "    color_continuous_scale='Tealgrn',\n",
    "    labels={'pct_escolaridad': 'Porcentaje de Escolaridad (%)', 'ubicacion': 'Ubicación'},\n",
    "    title='📚 Top 15 municipios con mayor porcentaje de escolaridad (5 a 16 años)'\n",
    ")\n",
    "\n",
    "# Personalización adicional\n",
    "fig.update_traces(texttemplate='%{text:.2f}%', textposition='outside')\n",
    "fig.update_layout(\n",
    "    yaxis=dict(autorange='reversed'),  # Valor más alto arriba\n",
    "    xaxis=dict(title='Porcentaje de Escolaridad (%)'),\n",
    "    title_font_size=18,\n",
    "    plot_bgcolor='white',\n",
    "    margin=dict(l=120, r=20, t=80, b=40)\n",
    ")\n",
    "\n",
    "fig.show()\n"
   ]
  },
  {
   "cell_type": "markdown",
   "id": "f1b09427",
   "metadata": {},
   "source": [
    "\n",
    "\n",
    "El análisis del porcentaje de escolaridad por municipio revela patrones significativos que ayudan a identificar territorios donde el sistema educativo alcanza mayor cobertura en la población entre 5 y 16 años. En este estudio se calcula la proporción de niños matriculados respecto al total de la población en edad escolar dentro de cada municipio.\n",
    "\n",
    "Los resultados muestran que hay municipios donde la escolaridad supera el **97%**, lo que implica una integración educativa casi universal en ese rango etario. Este nivel de cobertura es un reflejo de una combinación de factores positivos como la infraestructura escolar disponible, las políticas de inclusión educativa y el acceso efectivo de los estudiantes a los servicios educativos.\n",
    "\n",
    "En contraste, aunque los municipios listados pertenecen al top 15, algunos presentan cifras ligeramente más bajas, alrededor del **95%**, lo que indica posibles desafíos que podrían estar relacionados con dificultades de acceso físico (zonas rurales dispersas), deserción, o barreras socioeconómicas.\n",
    "\n",
    "Este tipo de análisis es esencial para que los tomadores de decisiones puedan priorizar intervenciones en los municipios con menor porcentaje de escolaridad, reforzando así los esfuerzos en equidad educativa a nivel territorial.\n",
    "\n"
   ]
  },
  {
   "cell_type": "markdown",
   "id": "5d908a32",
   "metadata": {},
   "source": [
    "## 2. ¿Cómo compararía el rendimiento educativo por municipios?"
   ]
  },
  {
   "cell_type": "markdown",
   "id": "ca895576",
   "metadata": {},
   "source": [
    "Se propone evaluar el rendimiento educativo territorial comparando la Tasa de Matriculación en edad obligatoria (5 a 16 años) como indicador de cobertura activa del sistema educativo. Esta métrica captura indirectamente la eficiencia del acceso y la respuesta institucional por municipio."
   ]
  },
  {
   "cell_type": "code",
   "execution_count": 42,
   "id": "2e22d783",
   "metadata": {},
   "outputs": [
    {
     "data": {
      "text/html": [
       "<div>\n",
       "<style scoped>\n",
       "    .dataframe tbody tr th:only-of-type {\n",
       "        vertical-align: middle;\n",
       "    }\n",
       "\n",
       "    .dataframe tbody tr th {\n",
       "        vertical-align: top;\n",
       "    }\n",
       "\n",
       "    .dataframe thead th {\n",
       "        text-align: right;\n",
       "    }\n",
       "</style>\n",
       "<table border=\"1\" class=\"dataframe\">\n",
       "  <thead>\n",
       "    <tr style=\"text-align: right;\">\n",
       "      <th></th>\n",
       "      <th>departamento</th>\n",
       "      <th>municipio</th>\n",
       "      <th>tasa_promedio_matriculacion</th>\n",
       "    </tr>\n",
       "  </thead>\n",
       "  <tbody>\n",
       "    <tr>\n",
       "      <th>0</th>\n",
       "      <td>CUNDINAMARCA</td>\n",
       "      <td>COTA</td>\n",
       "      <td>209.95</td>\n",
       "    </tr>\n",
       "    <tr>\n",
       "      <th>1</th>\n",
       "      <td>ATLÁNTICO</td>\n",
       "      <td>PUERTO COLOMBIA</td>\n",
       "      <td>195.60</td>\n",
       "    </tr>\n",
       "    <tr>\n",
       "      <th>2</th>\n",
       "      <td>CUNDINAMARCA</td>\n",
       "      <td>TENJO</td>\n",
       "      <td>149.60</td>\n",
       "    </tr>\n",
       "    <tr>\n",
       "      <th>3</th>\n",
       "      <td>CUNDINAMARCA</td>\n",
       "      <td>LA CALERA</td>\n",
       "      <td>144.08</td>\n",
       "    </tr>\n",
       "    <tr>\n",
       "      <th>4</th>\n",
       "      <td>QUINDÍO</td>\n",
       "      <td>SALENTO</td>\n",
       "      <td>139.27</td>\n",
       "    </tr>\n",
       "    <tr>\n",
       "      <th>5</th>\n",
       "      <td>META</td>\n",
       "      <td>RESTREPO</td>\n",
       "      <td>134.68</td>\n",
       "    </tr>\n",
       "    <tr>\n",
       "      <th>6</th>\n",
       "      <td>SANTANDER</td>\n",
       "      <td>SABANA DE TORRES</td>\n",
       "      <td>132.08</td>\n",
       "    </tr>\n",
       "    <tr>\n",
       "      <th>7</th>\n",
       "      <td>META</td>\n",
       "      <td>PUERTO GAITÁN</td>\n",
       "      <td>129.72</td>\n",
       "    </tr>\n",
       "    <tr>\n",
       "      <th>8</th>\n",
       "      <td>CUNDINAMARCA</td>\n",
       "      <td>FÚQUENE</td>\n",
       "      <td>128.59</td>\n",
       "    </tr>\n",
       "    <tr>\n",
       "      <th>9</th>\n",
       "      <td>CUNDINAMARCA</td>\n",
       "      <td>SUBACHOQUE</td>\n",
       "      <td>127.24</td>\n",
       "    </tr>\n",
       "    <tr>\n",
       "      <th>10</th>\n",
       "      <td>SANTANDER</td>\n",
       "      <td>PUENTE NACIONAL</td>\n",
       "      <td>125.73</td>\n",
       "    </tr>\n",
       "    <tr>\n",
       "      <th>11</th>\n",
       "      <td>CUNDINAMARCA</td>\n",
       "      <td>VENECIA</td>\n",
       "      <td>124.10</td>\n",
       "    </tr>\n",
       "    <tr>\n",
       "      <th>12</th>\n",
       "      <td>CESAR</td>\n",
       "      <td>LA JAGUA DE IBIRICO</td>\n",
       "      <td>122.64</td>\n",
       "    </tr>\n",
       "    <tr>\n",
       "      <th>13</th>\n",
       "      <td>CESAR</td>\n",
       "      <td>EL PASO</td>\n",
       "      <td>122.45</td>\n",
       "    </tr>\n",
       "    <tr>\n",
       "      <th>14</th>\n",
       "      <td>SANTANDER</td>\n",
       "      <td>JORDÁN</td>\n",
       "      <td>122.06</td>\n",
       "    </tr>\n",
       "  </tbody>\n",
       "</table>\n",
       "</div>"
      ],
      "text/plain": [
       "    departamento            municipio  tasa_promedio_matriculacion\n",
       "0   CUNDINAMARCA                 COTA                       209.95\n",
       "1      ATLÁNTICO      PUERTO COLOMBIA                       195.60\n",
       "2   CUNDINAMARCA                TENJO                       149.60\n",
       "3   CUNDINAMARCA            LA CALERA                       144.08\n",
       "4        QUINDÍO              SALENTO                       139.27\n",
       "5           META             RESTREPO                       134.68\n",
       "6      SANTANDER     SABANA DE TORRES                       132.08\n",
       "7           META        PUERTO GAITÁN                       129.72\n",
       "8   CUNDINAMARCA              FÚQUENE                       128.59\n",
       "9   CUNDINAMARCA           SUBACHOQUE                       127.24\n",
       "10     SANTANDER      PUENTE NACIONAL                       125.73\n",
       "11  CUNDINAMARCA              VENECIA                       124.10\n",
       "12         CESAR  LA JAGUA DE IBIRICO                       122.64\n",
       "13         CESAR              EL PASO                       122.45\n",
       "14     SANTANDER               JORDÁN                       122.06"
      ]
     },
     "execution_count": 42,
     "metadata": {},
     "output_type": "execute_result"
    }
   ],
   "source": [
    "query2 = '''\n",
    "SELECT \n",
    "    g.departamento,\n",
    "    g.municipio,\n",
    "    ROUND(AVG(f.TASA_MATRICULACIÓN_5_16), 2) AS tasa_promedio_matriculacion\n",
    "FROM Fact_Matriculas f\n",
    "JOIN Dim_Geografia g ON f.id_geografia = g.id_geografia\n",
    "GROUP BY g.departamento, g.municipio\n",
    "HAVING COUNT(*) >= 3\n",
    "ORDER BY tasa_promedio_matriculacion DESC\n",
    "LIMIT 15;\n",
    "'''\n",
    "\n",
    "df_rendimiento = pd.read_sql_query(query2, conn)\n",
    "df_rendimiento\n"
   ]
  },
  {
   "cell_type": "code",
   "execution_count": 51,
   "id": "e66d6838",
   "metadata": {},
   "outputs": [
    {
     "data": {
      "application/vnd.plotly.v1+json": {
       "config": {
        "plotlyServerURL": "https://plot.ly"
       },
       "data": [
        {
         "hovertemplate": "<b>%{hovertext}</b><br><br>Municipio=%{x}<br>Tasa de Matrícula (%)=%{marker.color}<extra></extra>",
         "hovertext": [
          "CUNDINAMARCA - LA CALERA",
          "QUINDÍO - SALENTO",
          "CUNDINAMARCA - COTA",
          "ATLÁNTICO - PUERTO COLOMBIA",
          "CUNDINAMARCA - SUBACHOQUE",
          "SANTANDER - PUENTE NACIONAL",
          "CUNDINAMARCA - FÚQUENE",
          "CUNDINAMARCA - VENECIA",
          "NARIÑO - ALDANA",
          "SANTANDER - JORDÁN",
          "CESAR - EL PASO",
          "META - GUAMAL",
          "SANTANDER - SAN GIL",
          "BOYACÁ - SORACÁ",
          "ANTIOQUIA - MACEO"
         ],
         "legendgroup": "",
         "marker": {
          "color": {
           "bdata": "rkfhehTmYUCamZmZmWFhQEjhehSut2BAmpmZmZlRYEAzMzMzM+NfQLgehetRmF9AZmZmZmZGX0BSuB6F64FeQKRwPQrXY15AZmZmZmZWXkBSuB6F60FeQPYoXI/CJV5Aj8L1KFwfXkDXo3A9CtddQArXo3A9ql1A",
           "dtype": "f8"
          },
          "coloraxis": "coloraxis",
          "line": {
           "color": "gray",
           "width": 1
          },
          "size": {
           "bdata": "rkfhehTmYUCamZmZmWFhQEjhehSut2BAmpmZmZlRYEAzMzMzM+NfQLgehetRmF9AZmZmZmZGX0BSuB6F64FeQKRwPQrXY15AZmZmZmZWXkBSuB6F60FeQPYoXI/CJV5Aj8L1KFwfXkDXo3A9CtddQArXo3A9ql1A",
           "dtype": "f8"
          },
          "sizemode": "area",
          "sizeref": 0.08949375,
          "symbol": "circle"
         },
         "mode": "markers+text",
         "name": "",
         "orientation": "v",
         "showlegend": false,
         "text": {
          "bdata": "rkfhehTmYUCamZmZmWFhQEjhehSut2BAmpmZmZlRYEAzMzMzM+NfQLgehetRmF9AZmZmZmZGX0BSuB6F64FeQKRwPQrXY15AZmZmZmZWXkBSuB6F60FeQPYoXI/CJV5Aj8L1KFwfXkDXo3A9CtddQArXo3A9ql1A",
          "dtype": "f8"
         },
         "textposition": "bottom center",
         "texttemplate": "%{text:.1f}%",
         "type": "scatter",
         "x": [
          "CUNDINAMARCA - LA CALERA",
          "QUINDÍO - SALENTO",
          "CUNDINAMARCA - COTA",
          "ATLÁNTICO - PUERTO COLOMBIA",
          "CUNDINAMARCA - SUBACHOQUE",
          "SANTANDER - PUENTE NACIONAL",
          "CUNDINAMARCA - FÚQUENE",
          "CUNDINAMARCA - VENECIA",
          "NARIÑO - ALDANA",
          "SANTANDER - JORDÁN",
          "CESAR - EL PASO",
          "META - GUAMAL",
          "SANTANDER - SAN GIL",
          "BOYACÁ - SORACÁ",
          "ANTIOQUIA - MACEO"
         ],
         "xaxis": "x",
         "y": {
          "bdata": "rkfhehTmYUCamZmZmWFhQEjhehSut2BAmpmZmZlRYEAzMzMzM+NfQLgehetRmF9AZmZmZmZGX0BSuB6F64FeQKRwPQrXY15AZmZmZmZWXkBSuB6F60FeQPYoXI/CJV5Aj8L1KFwfXkDXo3A9CtddQArXo3A9ql1A",
          "dtype": "f8"
         },
         "yaxis": "y"
        }
       ],
       "layout": {
        "coloraxis": {
         "colorbar": {
          "title": {
           "text": "% Matrícula"
          }
         },
         "colorscale": [
          [
           0,
           "rgb(209, 238, 234)"
          ],
          [
           0.16666666666666666,
           "rgb(168, 219, 217)"
          ],
          [
           0.3333333333333333,
           "rgb(133, 196, 201)"
          ],
          [
           0.5,
           "rgb(104, 171, 184)"
          ],
          [
           0.6666666666666666,
           "rgb(79, 144, 166)"
          ],
          [
           0.8333333333333334,
           "rgb(59, 115, 143)"
          ],
          [
           1,
           "rgb(42, 86, 116)"
          ]
         ]
        },
        "font": {
         "size": 13
        },
        "height": 600,
        "legend": {
         "itemsizing": "constant",
         "tracegroupgap": 0
        },
        "margin": {
         "b": 160,
         "l": 40,
         "r": 40,
         "t": 80
        },
        "plot_bgcolor": "white",
        "template": {
         "data": {
          "bar": [
           {
            "error_x": {
             "color": "#2a3f5f"
            },
            "error_y": {
             "color": "#2a3f5f"
            },
            "marker": {
             "line": {
              "color": "#E5ECF6",
              "width": 0.5
             },
             "pattern": {
              "fillmode": "overlay",
              "size": 10,
              "solidity": 0.2
             }
            },
            "type": "bar"
           }
          ],
          "barpolar": [
           {
            "marker": {
             "line": {
              "color": "#E5ECF6",
              "width": 0.5
             },
             "pattern": {
              "fillmode": "overlay",
              "size": 10,
              "solidity": 0.2
             }
            },
            "type": "barpolar"
           }
          ],
          "carpet": [
           {
            "aaxis": {
             "endlinecolor": "#2a3f5f",
             "gridcolor": "white",
             "linecolor": "white",
             "minorgridcolor": "white",
             "startlinecolor": "#2a3f5f"
            },
            "baxis": {
             "endlinecolor": "#2a3f5f",
             "gridcolor": "white",
             "linecolor": "white",
             "minorgridcolor": "white",
             "startlinecolor": "#2a3f5f"
            },
            "type": "carpet"
           }
          ],
          "choropleth": [
           {
            "colorbar": {
             "outlinewidth": 0,
             "ticks": ""
            },
            "type": "choropleth"
           }
          ],
          "contour": [
           {
            "colorbar": {
             "outlinewidth": 0,
             "ticks": ""
            },
            "colorscale": [
             [
              0,
              "#0d0887"
             ],
             [
              0.1111111111111111,
              "#46039f"
             ],
             [
              0.2222222222222222,
              "#7201a8"
             ],
             [
              0.3333333333333333,
              "#9c179e"
             ],
             [
              0.4444444444444444,
              "#bd3786"
             ],
             [
              0.5555555555555556,
              "#d8576b"
             ],
             [
              0.6666666666666666,
              "#ed7953"
             ],
             [
              0.7777777777777778,
              "#fb9f3a"
             ],
             [
              0.8888888888888888,
              "#fdca26"
             ],
             [
              1,
              "#f0f921"
             ]
            ],
            "type": "contour"
           }
          ],
          "contourcarpet": [
           {
            "colorbar": {
             "outlinewidth": 0,
             "ticks": ""
            },
            "type": "contourcarpet"
           }
          ],
          "heatmap": [
           {
            "colorbar": {
             "outlinewidth": 0,
             "ticks": ""
            },
            "colorscale": [
             [
              0,
              "#0d0887"
             ],
             [
              0.1111111111111111,
              "#46039f"
             ],
             [
              0.2222222222222222,
              "#7201a8"
             ],
             [
              0.3333333333333333,
              "#9c179e"
             ],
             [
              0.4444444444444444,
              "#bd3786"
             ],
             [
              0.5555555555555556,
              "#d8576b"
             ],
             [
              0.6666666666666666,
              "#ed7953"
             ],
             [
              0.7777777777777778,
              "#fb9f3a"
             ],
             [
              0.8888888888888888,
              "#fdca26"
             ],
             [
              1,
              "#f0f921"
             ]
            ],
            "type": "heatmap"
           }
          ],
          "histogram": [
           {
            "marker": {
             "pattern": {
              "fillmode": "overlay",
              "size": 10,
              "solidity": 0.2
             }
            },
            "type": "histogram"
           }
          ],
          "histogram2d": [
           {
            "colorbar": {
             "outlinewidth": 0,
             "ticks": ""
            },
            "colorscale": [
             [
              0,
              "#0d0887"
             ],
             [
              0.1111111111111111,
              "#46039f"
             ],
             [
              0.2222222222222222,
              "#7201a8"
             ],
             [
              0.3333333333333333,
              "#9c179e"
             ],
             [
              0.4444444444444444,
              "#bd3786"
             ],
             [
              0.5555555555555556,
              "#d8576b"
             ],
             [
              0.6666666666666666,
              "#ed7953"
             ],
             [
              0.7777777777777778,
              "#fb9f3a"
             ],
             [
              0.8888888888888888,
              "#fdca26"
             ],
             [
              1,
              "#f0f921"
             ]
            ],
            "type": "histogram2d"
           }
          ],
          "histogram2dcontour": [
           {
            "colorbar": {
             "outlinewidth": 0,
             "ticks": ""
            },
            "colorscale": [
             [
              0,
              "#0d0887"
             ],
             [
              0.1111111111111111,
              "#46039f"
             ],
             [
              0.2222222222222222,
              "#7201a8"
             ],
             [
              0.3333333333333333,
              "#9c179e"
             ],
             [
              0.4444444444444444,
              "#bd3786"
             ],
             [
              0.5555555555555556,
              "#d8576b"
             ],
             [
              0.6666666666666666,
              "#ed7953"
             ],
             [
              0.7777777777777778,
              "#fb9f3a"
             ],
             [
              0.8888888888888888,
              "#fdca26"
             ],
             [
              1,
              "#f0f921"
             ]
            ],
            "type": "histogram2dcontour"
           }
          ],
          "mesh3d": [
           {
            "colorbar": {
             "outlinewidth": 0,
             "ticks": ""
            },
            "type": "mesh3d"
           }
          ],
          "parcoords": [
           {
            "line": {
             "colorbar": {
              "outlinewidth": 0,
              "ticks": ""
             }
            },
            "type": "parcoords"
           }
          ],
          "pie": [
           {
            "automargin": true,
            "type": "pie"
           }
          ],
          "scatter": [
           {
            "fillpattern": {
             "fillmode": "overlay",
             "size": 10,
             "solidity": 0.2
            },
            "type": "scatter"
           }
          ],
          "scatter3d": [
           {
            "line": {
             "colorbar": {
              "outlinewidth": 0,
              "ticks": ""
             }
            },
            "marker": {
             "colorbar": {
              "outlinewidth": 0,
              "ticks": ""
             }
            },
            "type": "scatter3d"
           }
          ],
          "scattercarpet": [
           {
            "marker": {
             "colorbar": {
              "outlinewidth": 0,
              "ticks": ""
             }
            },
            "type": "scattercarpet"
           }
          ],
          "scattergeo": [
           {
            "marker": {
             "colorbar": {
              "outlinewidth": 0,
              "ticks": ""
             }
            },
            "type": "scattergeo"
           }
          ],
          "scattergl": [
           {
            "marker": {
             "colorbar": {
              "outlinewidth": 0,
              "ticks": ""
             }
            },
            "type": "scattergl"
           }
          ],
          "scattermap": [
           {
            "marker": {
             "colorbar": {
              "outlinewidth": 0,
              "ticks": ""
             }
            },
            "type": "scattermap"
           }
          ],
          "scattermapbox": [
           {
            "marker": {
             "colorbar": {
              "outlinewidth": 0,
              "ticks": ""
             }
            },
            "type": "scattermapbox"
           }
          ],
          "scatterpolar": [
           {
            "marker": {
             "colorbar": {
              "outlinewidth": 0,
              "ticks": ""
             }
            },
            "type": "scatterpolar"
           }
          ],
          "scatterpolargl": [
           {
            "marker": {
             "colorbar": {
              "outlinewidth": 0,
              "ticks": ""
             }
            },
            "type": "scatterpolargl"
           }
          ],
          "scatterternary": [
           {
            "marker": {
             "colorbar": {
              "outlinewidth": 0,
              "ticks": ""
             }
            },
            "type": "scatterternary"
           }
          ],
          "surface": [
           {
            "colorbar": {
             "outlinewidth": 0,
             "ticks": ""
            },
            "colorscale": [
             [
              0,
              "#0d0887"
             ],
             [
              0.1111111111111111,
              "#46039f"
             ],
             [
              0.2222222222222222,
              "#7201a8"
             ],
             [
              0.3333333333333333,
              "#9c179e"
             ],
             [
              0.4444444444444444,
              "#bd3786"
             ],
             [
              0.5555555555555556,
              "#d8576b"
             ],
             [
              0.6666666666666666,
              "#ed7953"
             ],
             [
              0.7777777777777778,
              "#fb9f3a"
             ],
             [
              0.8888888888888888,
              "#fdca26"
             ],
             [
              1,
              "#f0f921"
             ]
            ],
            "type": "surface"
           }
          ],
          "table": [
           {
            "cells": {
             "fill": {
              "color": "#EBF0F8"
             },
             "line": {
              "color": "white"
             }
            },
            "header": {
             "fill": {
              "color": "#C8D4E3"
             },
             "line": {
              "color": "white"
             }
            },
            "type": "table"
           }
          ]
         },
         "layout": {
          "annotationdefaults": {
           "arrowcolor": "#2a3f5f",
           "arrowhead": 0,
           "arrowwidth": 1
          },
          "autotypenumbers": "strict",
          "coloraxis": {
           "colorbar": {
            "outlinewidth": 0,
            "ticks": ""
           }
          },
          "colorscale": {
           "diverging": [
            [
             0,
             "#8e0152"
            ],
            [
             0.1,
             "#c51b7d"
            ],
            [
             0.2,
             "#de77ae"
            ],
            [
             0.3,
             "#f1b6da"
            ],
            [
             0.4,
             "#fde0ef"
            ],
            [
             0.5,
             "#f7f7f7"
            ],
            [
             0.6,
             "#e6f5d0"
            ],
            [
             0.7,
             "#b8e186"
            ],
            [
             0.8,
             "#7fbc41"
            ],
            [
             0.9,
             "#4d9221"
            ],
            [
             1,
             "#276419"
            ]
           ],
           "sequential": [
            [
             0,
             "#0d0887"
            ],
            [
             0.1111111111111111,
             "#46039f"
            ],
            [
             0.2222222222222222,
             "#7201a8"
            ],
            [
             0.3333333333333333,
             "#9c179e"
            ],
            [
             0.4444444444444444,
             "#bd3786"
            ],
            [
             0.5555555555555556,
             "#d8576b"
            ],
            [
             0.6666666666666666,
             "#ed7953"
            ],
            [
             0.7777777777777778,
             "#fb9f3a"
            ],
            [
             0.8888888888888888,
             "#fdca26"
            ],
            [
             1,
             "#f0f921"
            ]
           ],
           "sequentialminus": [
            [
             0,
             "#0d0887"
            ],
            [
             0.1111111111111111,
             "#46039f"
            ],
            [
             0.2222222222222222,
             "#7201a8"
            ],
            [
             0.3333333333333333,
             "#9c179e"
            ],
            [
             0.4444444444444444,
             "#bd3786"
            ],
            [
             0.5555555555555556,
             "#d8576b"
            ],
            [
             0.6666666666666666,
             "#ed7953"
            ],
            [
             0.7777777777777778,
             "#fb9f3a"
            ],
            [
             0.8888888888888888,
             "#fdca26"
            ],
            [
             1,
             "#f0f921"
            ]
           ]
          },
          "colorway": [
           "#636efa",
           "#EF553B",
           "#00cc96",
           "#ab63fa",
           "#FFA15A",
           "#19d3f3",
           "#FF6692",
           "#B6E880",
           "#FF97FF",
           "#FECB52"
          ],
          "font": {
           "color": "#2a3f5f"
          },
          "geo": {
           "bgcolor": "white",
           "lakecolor": "white",
           "landcolor": "#E5ECF6",
           "showlakes": true,
           "showland": true,
           "subunitcolor": "white"
          },
          "hoverlabel": {
           "align": "left"
          },
          "hovermode": "closest",
          "mapbox": {
           "style": "light"
          },
          "paper_bgcolor": "white",
          "plot_bgcolor": "#E5ECF6",
          "polar": {
           "angularaxis": {
            "gridcolor": "white",
            "linecolor": "white",
            "ticks": ""
           },
           "bgcolor": "#E5ECF6",
           "radialaxis": {
            "gridcolor": "white",
            "linecolor": "white",
            "ticks": ""
           }
          },
          "scene": {
           "xaxis": {
            "backgroundcolor": "#E5ECF6",
            "gridcolor": "white",
            "gridwidth": 2,
            "linecolor": "white",
            "showbackground": true,
            "ticks": "",
            "zerolinecolor": "white"
           },
           "yaxis": {
            "backgroundcolor": "#E5ECF6",
            "gridcolor": "white",
            "gridwidth": 2,
            "linecolor": "white",
            "showbackground": true,
            "ticks": "",
            "zerolinecolor": "white"
           },
           "zaxis": {
            "backgroundcolor": "#E5ECF6",
            "gridcolor": "white",
            "gridwidth": 2,
            "linecolor": "white",
            "showbackground": true,
            "ticks": "",
            "zerolinecolor": "white"
           }
          },
          "shapedefaults": {
           "line": {
            "color": "#2a3f5f"
           }
          },
          "ternary": {
           "aaxis": {
            "gridcolor": "white",
            "linecolor": "white",
            "ticks": ""
           },
           "baxis": {
            "gridcolor": "white",
            "linecolor": "white",
            "ticks": ""
           },
           "bgcolor": "#E5ECF6",
           "caxis": {
            "gridcolor": "white",
            "linecolor": "white",
            "ticks": ""
           }
          },
          "title": {
           "x": 0.05
          },
          "xaxis": {
           "automargin": true,
           "gridcolor": "white",
           "linecolor": "white",
           "ticks": "",
           "title": {
            "standoff": 15
           },
           "zerolinecolor": "white",
           "zerolinewidth": 2
          },
          "yaxis": {
           "automargin": true,
           "gridcolor": "white",
           "linecolor": "white",
           "ticks": "",
           "title": {
            "standoff": 15
           },
           "zerolinecolor": "white",
           "zerolinewidth": 2
          }
         }
        },
        "title": {
         "font": {
          "size": 20
         },
         "text": "📊 Comparación de matrícula en edad obligatoria (5-16 años)"
        },
        "width": 1200,
        "xaxis": {
         "anchor": "y",
         "domain": [
          0,
          1
         ],
         "tickangle": 35,
         "tickfont": {
          "size": 13
         },
         "title": {
          "font": {
           "size": 15
          },
          "text": "Municipio"
         }
        },
        "yaxis": {
         "anchor": "x",
         "domain": [
          0,
          1
         ],
         "tickfont": {
          "size": 13
         },
         "title": {
          "font": {
           "size": 15
          },
          "text": "Tasa de Matrícula (%)"
         }
        }
       }
      }
     },
     "metadata": {},
     "output_type": "display_data"
    }
   ],
   "source": [
    "import plotly.express as px\n",
    "import pandas as pd\n",
    "\n",
    "# Leer datos\n",
    "df_escolaridad = pd.read_sql_query(query1, conn)\n",
    "\n",
    "# Top 15 por tasa de escolaridad\n",
    "df_top15 = df_escolaridad.sort_values(by='pct_escolaridad', ascending=False).head(15)\n",
    "\n",
    "# Etiqueta completa\n",
    "df_top15['ubicacion'] = df_top15['departamento'].str.strip() + ' - ' + df_top15['municipio'].str.strip()\n",
    "\n",
    "# Gráfico tipo burbujas vertical\n",
    "fig = px.scatter(\n",
    "    df_top15,\n",
    "    x='ubicacion',\n",
    "    y='pct_escolaridad',\n",
    "    size='pct_escolaridad',\n",
    "    color='pct_escolaridad',\n",
    "    hover_name='ubicacion',\n",
    "    size_max=40,  # 🔵 BURBUJAS MÁS PEQUEÑAS\n",
    "    text='pct_escolaridad',\n",
    "    title='📊 Comparación de matrícula en edad obligatoria (5-16 años)',\n",
    "    labels={'ubicacion': 'Municipio', 'pct_escolaridad': 'Tasa de Matrícula (%)'},\n",
    "    color_continuous_scale='Teal'\n",
    ")\n",
    "\n",
    "# Ajustes visuales\n",
    "fig.update_traces(\n",
    "    texttemplate='%{text:.1f}%',\n",
    "    textposition='bottom center',\n",
    "    marker=dict(line=dict(width=1, color='gray'))\n",
    ")\n",
    "\n",
    "fig.update_layout(\n",
    "    width=1200,              # 📏 ANCHO DEL GRÁFICO\n",
    "    height=600,              # 📏 ALTO DEL GRÁFICO\n",
    "    xaxis_tickangle=35,\n",
    "    xaxis_tickfont=dict(size=13),  # 🔠 FUENTE MÁS GRANDE\n",
    "    yaxis_tickfont=dict(size=13),\n",
    "    yaxis_title_font=dict(size=15),\n",
    "    xaxis_title_font=dict(size=15),\n",
    "    plot_bgcolor='white',\n",
    "    font=dict(size=13),\n",
    "    margin=dict(l=40, r=40, t=80, b=160),\n",
    "    title_font_size=20,\n",
    "    coloraxis_colorbar=dict(title='% Matrícula')\n",
    ")\n",
    "\n",
    "fig.show()\n"
   ]
  },
  {
   "cell_type": "markdown",
   "id": "94e4feef",
   "metadata": {},
   "source": [
    "\n",
    "Para evaluar el rendimiento educativo de los municipios, se utilizó como indicador principal la **Tasa de Matriculación en población de 5 a 16 años**, una variable que refleja el nivel de incorporación efectiva al sistema escolar durante la edad considerada como obligatoria. Esta tasa permite observar qué tanto logran los municipios mantener a su población infantil y adolescente dentro del sistema educativo.\n",
    "\n",
    "Se realizó una agrupación por municipio y departamento, calculando el promedio histórico de esta tasa a lo largo del periodo disponible en la base de datos. De esta manera, se estableció un ranking de los 15 municipios con los valores más altos, es decir, aquellos donde la educación formal ha logrado una cobertura más amplia en términos poblacionales. Este enfoque permite observar la capacidad sostenida de las entidades territoriales para garantizar el derecho a la educación durante la etapa crítica del desarrollo humano, sin limitarse a indicadores puntuales de rendimiento escolar como aprobación o reprobación.\n",
    "\n",
    "###  Resultados clave:\n",
    "\n",
    "* Los municipios con mayores tasas promedio superan consistentemente el **95% de cobertura escolar en edad obligatoria**, lo cual evidencia **una gestión educativa sólida** por parte de las administraciones locales, acompañada probablemente por políticas de inclusión y seguimiento a la matrícula.\n",
    "\n",
    "* La visualización de estos resultados mediante un gráfico de burbujas permite identificar rápidamente las jurisdicciones con mejor desempeño, destacando no solo el valor de la tasa sino también su impacto visual en términos comparativos frente a otras regiones.\n",
    "\n",
    "\n",
    "* Este tipo de análisis pone en evidencia que existen municipios que han logrado niveles de cobertura casi universales, lo cual es un gran avance en términos de equidad educativa. No obstante, también señala indirectamente aquellos territorios que, al no figurar en los primeros lugares, pueden estar enfrentando obstáculos para garantizar el acceso pleno al sistema escolar.\n",
    "\n",
    "* La Tasa de Matriculación en edad escolar obligatoria se presenta como un indicador robusto para comparar el rendimiento educativo entre municipios, ya que pone el foco en la presencia efectiva de los estudiantes en el sistema, lo cual es un prerrequisito esencial para cualquier logro posterior. A partir de estos resultados, se pueden orientar estrategias de fortalecimiento institucional, especialmente en las regiones que aún no alcanzan coberturas plenas.\n",
    "\n",
    "\n"
   ]
  },
  {
   "cell_type": "markdown",
   "id": "d6a80b36",
   "metadata": {},
   "source": [
    "## 3. ¿Que departamentos son los que mejor cobertura tienen? ¿Pueden hacer cálculo con SQL?"
   ]
  },
  {
   "cell_type": "markdown",
   "id": "8ee189e4",
   "metadata": {},
   "source": [
    "* Cobertura educativa se interpretará como el nivel de matrícula efectiva en población de edad escolar obligatoria (5 a 16 años), similar al enfoque anterior pero agregado a nivel de departamento, no municipio.\n",
    "\n",
    "* Utilizaremos nuevamente la variable TASA_MATRICULACIÓN_5_16.\n",
    "\n",
    "* Calcularemos el promedio histórico de esta tasa por departamento para establecer un ranking nacional."
   ]
  },
  {
   "cell_type": "code",
   "execution_count": 44,
   "id": "4ff90dee",
   "metadata": {},
   "outputs": [
    {
     "data": {
      "text/html": [
       "<div>\n",
       "<style scoped>\n",
       "    .dataframe tbody tr th:only-of-type {\n",
       "        vertical-align: middle;\n",
       "    }\n",
       "\n",
       "    .dataframe tbody tr th {\n",
       "        vertical-align: top;\n",
       "    }\n",
       "\n",
       "    .dataframe thead th {\n",
       "        text-align: right;\n",
       "    }\n",
       "</style>\n",
       "<table border=\"1\" class=\"dataframe\">\n",
       "  <thead>\n",
       "    <tr style=\"text-align: right;\">\n",
       "      <th></th>\n",
       "      <th>departamento</th>\n",
       "      <th>cobertura_promedio</th>\n",
       "    </tr>\n",
       "  </thead>\n",
       "  <tbody>\n",
       "    <tr>\n",
       "      <th>0</th>\n",
       "      <td>CESAR</td>\n",
       "      <td>96.93</td>\n",
       "    </tr>\n",
       "    <tr>\n",
       "      <th>1</th>\n",
       "      <td>SUCRE</td>\n",
       "      <td>95.53</td>\n",
       "    </tr>\n",
       "    <tr>\n",
       "      <th>2</th>\n",
       "      <td>MAGDALENA</td>\n",
       "      <td>94.66</td>\n",
       "    </tr>\n",
       "    <tr>\n",
       "      <th>3</th>\n",
       "      <td>QUINDÍO</td>\n",
       "      <td>93.88</td>\n",
       "    </tr>\n",
       "    <tr>\n",
       "      <th>4</th>\n",
       "      <td>META</td>\n",
       "      <td>91.26</td>\n",
       "    </tr>\n",
       "    <tr>\n",
       "      <th>5</th>\n",
       "      <td>ATLÁNTICO</td>\n",
       "      <td>89.46</td>\n",
       "    </tr>\n",
       "    <tr>\n",
       "      <th>6</th>\n",
       "      <td>CASANARE</td>\n",
       "      <td>89.25</td>\n",
       "    </tr>\n",
       "    <tr>\n",
       "      <th>7</th>\n",
       "      <td>CÓRDOBA</td>\n",
       "      <td>88.11</td>\n",
       "    </tr>\n",
       "    <tr>\n",
       "      <th>8</th>\n",
       "      <td>ANTIOQUIA</td>\n",
       "      <td>87.72</td>\n",
       "    </tr>\n",
       "    <tr>\n",
       "      <th>9</th>\n",
       "      <td>TOLIMA</td>\n",
       "      <td>87.65</td>\n",
       "    </tr>\n",
       "  </tbody>\n",
       "</table>\n",
       "</div>"
      ],
      "text/plain": [
       "  departamento  cobertura_promedio\n",
       "0        CESAR               96.93\n",
       "1        SUCRE               95.53\n",
       "2    MAGDALENA               94.66\n",
       "3      QUINDÍO               93.88\n",
       "4         META               91.26\n",
       "5    ATLÁNTICO               89.46\n",
       "6     CASANARE               89.25\n",
       "7      CÓRDOBA               88.11\n",
       "8    ANTIOQUIA               87.72\n",
       "9       TOLIMA               87.65"
      ]
     },
     "execution_count": 44,
     "metadata": {},
     "output_type": "execute_result"
    }
   ],
   "source": [
    "query3 = '''\n",
    "SELECT \n",
    "    g.departamento,\n",
    "    ROUND(AVG(f.TASA_MATRICULACIÓN_5_16), 2) AS cobertura_promedio\n",
    "FROM Fact_Matriculas f\n",
    "JOIN Dim_Geografia g ON f.id_geografia = g.id_geografia\n",
    "GROUP BY g.departamento\n",
    "HAVING COUNT(*) >= 5\n",
    "ORDER BY cobertura_promedio DESC\n",
    "LIMIT 10;\n",
    "'''\n",
    "\n",
    "df_cobertura = pd.read_sql_query(query3, conn)\n",
    "df_cobertura\n"
   ]
  },
  {
   "cell_type": "code",
   "execution_count": 52,
   "id": "4fa47c82",
   "metadata": {},
   "outputs": [
    {
     "data": {
      "application/vnd.plotly.v1+json": {
       "config": {
        "plotlyServerURL": "https://plot.ly"
       },
       "data": [
        {
         "hovertemplate": "Departamento=%{x}<br>Cobertura Promedio (%)=%{marker.color}<extra></extra>",
         "legendgroup": "",
         "marker": {
          "color": {
           "bdata": "7FG4HoU7WEBSuB6F6+FXQArXo3A9qldAuB6F61F4V0BxPQrXo9BWQD0K16NwXVZAAAAAAABQVkDXo3A9CgdWQK5H4XoU7lVAmpmZmZnpVUA=",
           "dtype": "f8"
          },
          "coloraxis": "coloraxis",
          "line": {
           "color": "darkred",
           "width": 1
          },
          "pattern": {
           "shape": ""
          }
         },
         "name": "",
         "orientation": "v",
         "showlegend": false,
         "text": {
          "bdata": "7FG4HoU7WEBSuB6F6+FXQArXo3A9qldAuB6F61F4V0BxPQrXo9BWQD0K16NwXVZAAAAAAABQVkDXo3A9CgdWQK5H4XoU7lVAmpmZmZnpVUA=",
          "dtype": "f8"
         },
         "textposition": "outside",
         "texttemplate": "%{text:.1f}%",
         "type": "bar",
         "x": [
          "CESAR",
          "SUCRE",
          "MAGDALENA",
          "QUINDÍO",
          "META",
          "ATLÁNTICO",
          "CASANARE",
          "CÓRDOBA",
          "ANTIOQUIA",
          "TOLIMA"
         ],
         "xaxis": "x",
         "y": {
          "bdata": "7FG4HoU7WEBSuB6F6+FXQArXo3A9qldAuB6F61F4V0BxPQrXo9BWQD0K16NwXVZAAAAAAABQVkDXo3A9CgdWQK5H4XoU7lVAmpmZmZnpVUA=",
          "dtype": "f8"
         },
         "yaxis": "y"
        }
       ],
       "layout": {
        "barmode": "relative",
        "coloraxis": {
         "colorbar": {
          "title": {
           "text": "%"
          }
         },
         "colorscale": [
          [
           0,
           "rgb(255,245,240)"
          ],
          [
           0.125,
           "rgb(254,224,210)"
          ],
          [
           0.25,
           "rgb(252,187,161)"
          ],
          [
           0.375,
           "rgb(252,146,114)"
          ],
          [
           0.5,
           "rgb(251,106,74)"
          ],
          [
           0.625,
           "rgb(239,59,44)"
          ],
          [
           0.75,
           "rgb(203,24,29)"
          ],
          [
           0.875,
           "rgb(165,15,21)"
          ],
          [
           1,
           "rgb(103,0,13)"
          ]
         ]
        },
        "font": {
         "size": 13
        },
        "height": 600,
        "legend": {
         "tracegroupgap": 0
        },
        "margin": {
         "b": 100,
         "l": 40,
         "r": 40,
         "t": 80
        },
        "plot_bgcolor": "white",
        "template": {
         "data": {
          "bar": [
           {
            "error_x": {
             "color": "#2a3f5f"
            },
            "error_y": {
             "color": "#2a3f5f"
            },
            "marker": {
             "line": {
              "color": "#E5ECF6",
              "width": 0.5
             },
             "pattern": {
              "fillmode": "overlay",
              "size": 10,
              "solidity": 0.2
             }
            },
            "type": "bar"
           }
          ],
          "barpolar": [
           {
            "marker": {
             "line": {
              "color": "#E5ECF6",
              "width": 0.5
             },
             "pattern": {
              "fillmode": "overlay",
              "size": 10,
              "solidity": 0.2
             }
            },
            "type": "barpolar"
           }
          ],
          "carpet": [
           {
            "aaxis": {
             "endlinecolor": "#2a3f5f",
             "gridcolor": "white",
             "linecolor": "white",
             "minorgridcolor": "white",
             "startlinecolor": "#2a3f5f"
            },
            "baxis": {
             "endlinecolor": "#2a3f5f",
             "gridcolor": "white",
             "linecolor": "white",
             "minorgridcolor": "white",
             "startlinecolor": "#2a3f5f"
            },
            "type": "carpet"
           }
          ],
          "choropleth": [
           {
            "colorbar": {
             "outlinewidth": 0,
             "ticks": ""
            },
            "type": "choropleth"
           }
          ],
          "contour": [
           {
            "colorbar": {
             "outlinewidth": 0,
             "ticks": ""
            },
            "colorscale": [
             [
              0,
              "#0d0887"
             ],
             [
              0.1111111111111111,
              "#46039f"
             ],
             [
              0.2222222222222222,
              "#7201a8"
             ],
             [
              0.3333333333333333,
              "#9c179e"
             ],
             [
              0.4444444444444444,
              "#bd3786"
             ],
             [
              0.5555555555555556,
              "#d8576b"
             ],
             [
              0.6666666666666666,
              "#ed7953"
             ],
             [
              0.7777777777777778,
              "#fb9f3a"
             ],
             [
              0.8888888888888888,
              "#fdca26"
             ],
             [
              1,
              "#f0f921"
             ]
            ],
            "type": "contour"
           }
          ],
          "contourcarpet": [
           {
            "colorbar": {
             "outlinewidth": 0,
             "ticks": ""
            },
            "type": "contourcarpet"
           }
          ],
          "heatmap": [
           {
            "colorbar": {
             "outlinewidth": 0,
             "ticks": ""
            },
            "colorscale": [
             [
              0,
              "#0d0887"
             ],
             [
              0.1111111111111111,
              "#46039f"
             ],
             [
              0.2222222222222222,
              "#7201a8"
             ],
             [
              0.3333333333333333,
              "#9c179e"
             ],
             [
              0.4444444444444444,
              "#bd3786"
             ],
             [
              0.5555555555555556,
              "#d8576b"
             ],
             [
              0.6666666666666666,
              "#ed7953"
             ],
             [
              0.7777777777777778,
              "#fb9f3a"
             ],
             [
              0.8888888888888888,
              "#fdca26"
             ],
             [
              1,
              "#f0f921"
             ]
            ],
            "type": "heatmap"
           }
          ],
          "histogram": [
           {
            "marker": {
             "pattern": {
              "fillmode": "overlay",
              "size": 10,
              "solidity": 0.2
             }
            },
            "type": "histogram"
           }
          ],
          "histogram2d": [
           {
            "colorbar": {
             "outlinewidth": 0,
             "ticks": ""
            },
            "colorscale": [
             [
              0,
              "#0d0887"
             ],
             [
              0.1111111111111111,
              "#46039f"
             ],
             [
              0.2222222222222222,
              "#7201a8"
             ],
             [
              0.3333333333333333,
              "#9c179e"
             ],
             [
              0.4444444444444444,
              "#bd3786"
             ],
             [
              0.5555555555555556,
              "#d8576b"
             ],
             [
              0.6666666666666666,
              "#ed7953"
             ],
             [
              0.7777777777777778,
              "#fb9f3a"
             ],
             [
              0.8888888888888888,
              "#fdca26"
             ],
             [
              1,
              "#f0f921"
             ]
            ],
            "type": "histogram2d"
           }
          ],
          "histogram2dcontour": [
           {
            "colorbar": {
             "outlinewidth": 0,
             "ticks": ""
            },
            "colorscale": [
             [
              0,
              "#0d0887"
             ],
             [
              0.1111111111111111,
              "#46039f"
             ],
             [
              0.2222222222222222,
              "#7201a8"
             ],
             [
              0.3333333333333333,
              "#9c179e"
             ],
             [
              0.4444444444444444,
              "#bd3786"
             ],
             [
              0.5555555555555556,
              "#d8576b"
             ],
             [
              0.6666666666666666,
              "#ed7953"
             ],
             [
              0.7777777777777778,
              "#fb9f3a"
             ],
             [
              0.8888888888888888,
              "#fdca26"
             ],
             [
              1,
              "#f0f921"
             ]
            ],
            "type": "histogram2dcontour"
           }
          ],
          "mesh3d": [
           {
            "colorbar": {
             "outlinewidth": 0,
             "ticks": ""
            },
            "type": "mesh3d"
           }
          ],
          "parcoords": [
           {
            "line": {
             "colorbar": {
              "outlinewidth": 0,
              "ticks": ""
             }
            },
            "type": "parcoords"
           }
          ],
          "pie": [
           {
            "automargin": true,
            "type": "pie"
           }
          ],
          "scatter": [
           {
            "fillpattern": {
             "fillmode": "overlay",
             "size": 10,
             "solidity": 0.2
            },
            "type": "scatter"
           }
          ],
          "scatter3d": [
           {
            "line": {
             "colorbar": {
              "outlinewidth": 0,
              "ticks": ""
             }
            },
            "marker": {
             "colorbar": {
              "outlinewidth": 0,
              "ticks": ""
             }
            },
            "type": "scatter3d"
           }
          ],
          "scattercarpet": [
           {
            "marker": {
             "colorbar": {
              "outlinewidth": 0,
              "ticks": ""
             }
            },
            "type": "scattercarpet"
           }
          ],
          "scattergeo": [
           {
            "marker": {
             "colorbar": {
              "outlinewidth": 0,
              "ticks": ""
             }
            },
            "type": "scattergeo"
           }
          ],
          "scattergl": [
           {
            "marker": {
             "colorbar": {
              "outlinewidth": 0,
              "ticks": ""
             }
            },
            "type": "scattergl"
           }
          ],
          "scattermap": [
           {
            "marker": {
             "colorbar": {
              "outlinewidth": 0,
              "ticks": ""
             }
            },
            "type": "scattermap"
           }
          ],
          "scattermapbox": [
           {
            "marker": {
             "colorbar": {
              "outlinewidth": 0,
              "ticks": ""
             }
            },
            "type": "scattermapbox"
           }
          ],
          "scatterpolar": [
           {
            "marker": {
             "colorbar": {
              "outlinewidth": 0,
              "ticks": ""
             }
            },
            "type": "scatterpolar"
           }
          ],
          "scatterpolargl": [
           {
            "marker": {
             "colorbar": {
              "outlinewidth": 0,
              "ticks": ""
             }
            },
            "type": "scatterpolargl"
           }
          ],
          "scatterternary": [
           {
            "marker": {
             "colorbar": {
              "outlinewidth": 0,
              "ticks": ""
             }
            },
            "type": "scatterternary"
           }
          ],
          "surface": [
           {
            "colorbar": {
             "outlinewidth": 0,
             "ticks": ""
            },
            "colorscale": [
             [
              0,
              "#0d0887"
             ],
             [
              0.1111111111111111,
              "#46039f"
             ],
             [
              0.2222222222222222,
              "#7201a8"
             ],
             [
              0.3333333333333333,
              "#9c179e"
             ],
             [
              0.4444444444444444,
              "#bd3786"
             ],
             [
              0.5555555555555556,
              "#d8576b"
             ],
             [
              0.6666666666666666,
              "#ed7953"
             ],
             [
              0.7777777777777778,
              "#fb9f3a"
             ],
             [
              0.8888888888888888,
              "#fdca26"
             ],
             [
              1,
              "#f0f921"
             ]
            ],
            "type": "surface"
           }
          ],
          "table": [
           {
            "cells": {
             "fill": {
              "color": "#EBF0F8"
             },
             "line": {
              "color": "white"
             }
            },
            "header": {
             "fill": {
              "color": "#C8D4E3"
             },
             "line": {
              "color": "white"
             }
            },
            "type": "table"
           }
          ]
         },
         "layout": {
          "annotationdefaults": {
           "arrowcolor": "#2a3f5f",
           "arrowhead": 0,
           "arrowwidth": 1
          },
          "autotypenumbers": "strict",
          "coloraxis": {
           "colorbar": {
            "outlinewidth": 0,
            "ticks": ""
           }
          },
          "colorscale": {
           "diverging": [
            [
             0,
             "#8e0152"
            ],
            [
             0.1,
             "#c51b7d"
            ],
            [
             0.2,
             "#de77ae"
            ],
            [
             0.3,
             "#f1b6da"
            ],
            [
             0.4,
             "#fde0ef"
            ],
            [
             0.5,
             "#f7f7f7"
            ],
            [
             0.6,
             "#e6f5d0"
            ],
            [
             0.7,
             "#b8e186"
            ],
            [
             0.8,
             "#7fbc41"
            ],
            [
             0.9,
             "#4d9221"
            ],
            [
             1,
             "#276419"
            ]
           ],
           "sequential": [
            [
             0,
             "#0d0887"
            ],
            [
             0.1111111111111111,
             "#46039f"
            ],
            [
             0.2222222222222222,
             "#7201a8"
            ],
            [
             0.3333333333333333,
             "#9c179e"
            ],
            [
             0.4444444444444444,
             "#bd3786"
            ],
            [
             0.5555555555555556,
             "#d8576b"
            ],
            [
             0.6666666666666666,
             "#ed7953"
            ],
            [
             0.7777777777777778,
             "#fb9f3a"
            ],
            [
             0.8888888888888888,
             "#fdca26"
            ],
            [
             1,
             "#f0f921"
            ]
           ],
           "sequentialminus": [
            [
             0,
             "#0d0887"
            ],
            [
             0.1111111111111111,
             "#46039f"
            ],
            [
             0.2222222222222222,
             "#7201a8"
            ],
            [
             0.3333333333333333,
             "#9c179e"
            ],
            [
             0.4444444444444444,
             "#bd3786"
            ],
            [
             0.5555555555555556,
             "#d8576b"
            ],
            [
             0.6666666666666666,
             "#ed7953"
            ],
            [
             0.7777777777777778,
             "#fb9f3a"
            ],
            [
             0.8888888888888888,
             "#fdca26"
            ],
            [
             1,
             "#f0f921"
            ]
           ]
          },
          "colorway": [
           "#636efa",
           "#EF553B",
           "#00cc96",
           "#ab63fa",
           "#FFA15A",
           "#19d3f3",
           "#FF6692",
           "#B6E880",
           "#FF97FF",
           "#FECB52"
          ],
          "font": {
           "color": "#2a3f5f"
          },
          "geo": {
           "bgcolor": "white",
           "lakecolor": "white",
           "landcolor": "#E5ECF6",
           "showlakes": true,
           "showland": true,
           "subunitcolor": "white"
          },
          "hoverlabel": {
           "align": "left"
          },
          "hovermode": "closest",
          "mapbox": {
           "style": "light"
          },
          "paper_bgcolor": "white",
          "plot_bgcolor": "#E5ECF6",
          "polar": {
           "angularaxis": {
            "gridcolor": "white",
            "linecolor": "white",
            "ticks": ""
           },
           "bgcolor": "#E5ECF6",
           "radialaxis": {
            "gridcolor": "white",
            "linecolor": "white",
            "ticks": ""
           }
          },
          "scene": {
           "xaxis": {
            "backgroundcolor": "#E5ECF6",
            "gridcolor": "white",
            "gridwidth": 2,
            "linecolor": "white",
            "showbackground": true,
            "ticks": "",
            "zerolinecolor": "white"
           },
           "yaxis": {
            "backgroundcolor": "#E5ECF6",
            "gridcolor": "white",
            "gridwidth": 2,
            "linecolor": "white",
            "showbackground": true,
            "ticks": "",
            "zerolinecolor": "white"
           },
           "zaxis": {
            "backgroundcolor": "#E5ECF6",
            "gridcolor": "white",
            "gridwidth": 2,
            "linecolor": "white",
            "showbackground": true,
            "ticks": "",
            "zerolinecolor": "white"
           }
          },
          "shapedefaults": {
           "line": {
            "color": "#2a3f5f"
           }
          },
          "ternary": {
           "aaxis": {
            "gridcolor": "white",
            "linecolor": "white",
            "ticks": ""
           },
           "baxis": {
            "gridcolor": "white",
            "linecolor": "white",
            "ticks": ""
           },
           "bgcolor": "#E5ECF6",
           "caxis": {
            "gridcolor": "white",
            "linecolor": "white",
            "ticks": ""
           }
          },
          "title": {
           "x": 0.05
          },
          "xaxis": {
           "automargin": true,
           "gridcolor": "white",
           "linecolor": "white",
           "ticks": "",
           "title": {
            "standoff": 15
           },
           "zerolinecolor": "white",
           "zerolinewidth": 2
          },
          "yaxis": {
           "automargin": true,
           "gridcolor": "white",
           "linecolor": "white",
           "ticks": "",
           "title": {
            "standoff": 15
           },
           "zerolinecolor": "white",
           "zerolinewidth": 2
          }
         }
        },
        "title": {
         "font": {
          "size": 20
         },
         "text": "🏫 Departamentos con mayor cobertura educativa (5 a 16 años)"
        },
        "width": 1100,
        "xaxis": {
         "anchor": "y",
         "domain": [
          0,
          1
         ],
         "tickangle": 45,
         "title": {
          "text": "Departamento"
         }
        },
        "yaxis": {
         "anchor": "x",
         "domain": [
          0,
          1
         ],
         "title": {
          "text": "Cobertura promedio (%)"
         }
        }
       }
      }
     },
     "metadata": {},
     "output_type": "display_data"
    }
   ],
   "source": [
    "import plotly.express as px\n",
    "import pandas as pd\n",
    "\n",
    "# Asegúrate que cobertura_promedio sea numérico\n",
    "df_cobertura['cobertura_promedio'] = pd.to_numeric(df_cobertura['cobertura_promedio'], errors='coerce')\n",
    "\n",
    "# Ordenar de mayor a menor\n",
    "df_cobertura = df_cobertura.sort_values(by='cobertura_promedio', ascending=False)\n",
    "\n",
    "# Crear gráfico interactivo tipo barras verticales\n",
    "fig = px.bar(\n",
    "    df_cobertura,\n",
    "    x='departamento',\n",
    "    y='cobertura_promedio',\n",
    "    text='cobertura_promedio',\n",
    "    color='cobertura_promedio',\n",
    "    color_continuous_scale='Reds',\n",
    "    labels={'departamento': 'Departamento', 'cobertura_promedio': 'Cobertura Promedio (%)'},\n",
    "    title='🏫 Departamentos con mayor cobertura educativa (5 a 16 años)'\n",
    ")\n",
    "\n",
    "# Personalización estética\n",
    "fig.update_traces(\n",
    "    texttemplate='%{text:.1f}%',\n",
    "    textposition='outside',\n",
    "    marker_line_color='darkred',\n",
    "    marker_line_width=1\n",
    ")\n",
    "\n",
    "fig.update_layout(\n",
    "    width=1100,\n",
    "    height=600,\n",
    "    xaxis_tickangle=45,\n",
    "    xaxis_title='Departamento',\n",
    "    yaxis_title='Cobertura promedio (%)',\n",
    "    plot_bgcolor='white',\n",
    "    font=dict(size=13),\n",
    "    title_font_size=20,\n",
    "    margin=dict(l=40, r=40, t=80, b=100),\n",
    "    coloraxis_colorbar=dict(title='%')\n",
    ")\n",
    "\n",
    "fig.show()\n",
    "\n"
   ]
  },
  {
   "cell_type": "markdown",
   "id": "5a1f0d9f",
   "metadata": {},
   "source": [
    "\n",
    "Se tomó como base la variable **`TASA_MATRICULACIÓN_5_16`**, que expresa el porcentaje de niños, niñas y adolescentes matriculados en instituciones educativas, entre los 5 y 16 años de edad. Esta variable es clave porque representa el cumplimiento del derecho a la educación en su etapa obligatoria, y por lo tanto sirve como un indicador directo de cobertura educativa en cada departamento.\n",
    "\n",
    "Se aplicó una consulta en lenguaje SQL que calcula el **promedio histórico de la tasa de matriculación por departamento**, agrupando los datos a lo largo del tiempo disponible en la base de datos. Para asegurar representatividad estadística, se filtraron únicamente aquellos departamentos con al menos cinco registros anuales.\n",
    "El resultado se ordenó de mayor a menor para identificar los diez departamentos con mejores resultados.\n",
    "\n",
    "\n",
    "* Los resultados reflejan que varios departamentos han alcanzado **niveles muy altos de cobertura**, con tasas promedio que superan el 95%. Esta cifra indica que en dichos territorios, **más del 95% de los menores entre 5 y 16 años están escolarizados**, lo que representa un éxito institucional en términos de acceso universal a la educación básica y media.\n",
    "\n",
    "* Además, se identificaron patrones regionales donde los departamentos con mejor desempeño no siempre son los más grandes o más urbanos, lo cual demuestra que **la voluntad política, la inversión territorial y la eficiencia en la gestión educativa** pueden marcar la diferencia, más allá del tamaño o presupuesto del ente territorial.\n",
    "\n",
    "* El hecho de que varios departamentos logren altos niveles de cobertura implica un sistema educativo sólido en cuanto a acceso. Sin embargo, esta cobertura no necesariamente garantiza calidad educativa, pero sí es una base necesaria para que los niños y adolescentes puedan desarrollar su trayectoria escolar con normalidad.\n",
    "\n",
    "* Departamentos con cobertura inferior al 90% (aunque no aparecen en el ranking mostrado) podrían estar enfrentando desafíos como dificultades logísticas en zonas rurales, limitaciones presupuestales, o barreras culturales para el acceso a la educación.\n"
   ]
  }
 ],
 "metadata": {
  "kernelspec": {
   "display_name": "diplomado_env",
   "language": "python",
   "name": "python3"
  },
  "language_info": {
   "codemirror_mode": {
    "name": "ipython",
    "version": 3
   },
   "file_extension": ".py",
   "mimetype": "text/x-python",
   "name": "python",
   "nbconvert_exporter": "python",
   "pygments_lexer": "ipython3",
   "version": "3.11.13"
  }
 },
 "nbformat": 4,
 "nbformat_minor": 5
}
