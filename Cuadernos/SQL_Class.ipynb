{
  "cells": [
    {
      "cell_type": "markdown",
      "metadata": {
        "id": "fW37H26toTdK"
      },
      "source": [
        "# Cuaderno Práctico de SQL: De DDL a Funciones de Ventana\n",
        "\n",
        "¡Bienvenido! Este cuaderno es el taller práctico que acompaña nuestro curso. Aquí no solo verás código, sino que entenderás el **\"porqué\"** de cada comando. Pasaremos de ser arquitectos de datos (con DDL) a operadores y analistas expertos (con DML y consultas avanzadas).\n",
        "\n",
        "**Nuestra Misión:**\n",
        "Vamos a simular la creación y gestión de la base de datos de una pequeña empresa. Usaremos dos herramientas clave que viven dentro de este entorno de Python:\n",
        "\n",
        "* **`sqlite3`**: Piensa en esto como un motor de base de datos completo, pero contenido en un solo archivo. Es como tener un\n",
        "laboratorio de bases de datos personal y portátil, perfecto para aprender y experimentar sin necesidad de instalar un servidor complejo.\n",
        "* **`pandas`**: Es el estándar de oro en la ciencia de datos con Python. Lo usaremos para visualizar los resultados de nuestras consultas de una manera limpia y ordenada, como si estuviéramos viendo una hoja de cálculo.\n",
        "\n",
        "¡Empecemos!\n",
        "\n",
        "**Módulos que cubriremos:**\n",
        "1.  **Configuración del Entorno**\n",
        "2.  **DDL (Data Definition Language):** Creando la estructura.\n",
        "3.  **DML (Data Manipulation Language):** Interactuando con los datos.\n",
        "4.  **Consultas Avanzadas:** `JOIN`, `CTE` y Funciones de Ventana.\n",
        "\n",
        "\n"
      ]
    },
    {
      "cell_type": "code",
      "execution_count": null,
      "metadata": {},
      "outputs": [],
      "source": [
        "# ===================================================================\n",
        "# PASO 1: CONFIGURACIÓN DE NUESTRO LABORATORIO\n",
        "# ===================================================================\n",
        "\n",
        "import sqlite3\n",
        "import pandas as pd\n",
        "\n",
        "# Imagina que 'conectar' a una base de datos es como abrir la puerta de una bodega.\n",
        "# Si el archivo 'empresa.db' no existe, Python lo crea por nosotros.\n",
        "# Si ya existe, simplemente abrimos la puerta para trabajar con lo que hay adentro.\n",
        "conn = sqlite3.connect('../Datos/empresa.db')\n"
      ]
    },
    {
      "cell_type": "code",
      "execution_count": 4,
      "metadata": {},
      "outputs": [],
      "source": [
        "# El 'cursor' es nuestro operario o nuestro \"brazo robótico\" dentro de la bodega.\n",
        "# No podemos mover las cajas (datos) directamente; le damos órdenes al cursor\n",
        "# y él las ejecuta por nosotros.\n",
        "cursor = conn.cursor()"
      ]
    },
    {
      "cell_type": "code",
      "execution_count": 14,
      "metadata": {
        "colab": {
          "base_uri": "https://localhost:8080/"
        },
        "id": "NFmr2FzkoNWB",
        "outputId": "f0ccb073-a293-468c-f874-20f3d62b21f6"
      },
      "outputs": [],
      "source": [
        "\n",
        "# --- Función Auxiliar Mágica ---\n",
        "# Para no repetir código, creamos una función que toma una orden (nuestra consulta SQL),\n",
        "# se la pasa al operario (el cursor), recoge los resultados y nos los muestra\n",
        "# en una tabla bonita y fácil de leer (un DataFrame de pandas).\n",
        "def ejecutar_sql(query, conexion=conn):\n",
        "  \"\"\"\n",
        "  Toma una consulta SQL, la ejecuta y devuelve el resultado\n",
        "  en una tabla de pandas para una visualización clara.\n",
        "  \"\"\"\n",
        "  df = pd.read_sql_query(query, conexion)\n",
        "  # Usamos display() porque en Colab presenta las tablas de forma más elegante.\n",
        "  display(df)\n"
      ]
    },
    {
      "cell_type": "code",
      "execution_count": 15,
      "metadata": {},
      "outputs": [
        {
          "name": "stdout",
          "output_type": "stream",
          "text": [
            "✅ ¡Laboratorio configurado! La puerta a 'empresa.db' está abierta y nuestro operario está listo.\n"
          ]
        }
      ],
      "source": [
        "print(\"✅ ¡Laboratorio configurado! La puerta a 'empresa.db' está abierta y nuestro operario está listo.\")"
      ]
    },
    {
      "cell_type": "markdown",
      "metadata": {
        "id": "6EtJEQUbrQ-1"
      },
      "source": [
        "## **2. DDL (Data Definition Language): El Arquitecto de Datos**\n",
        "\n",
        "Ha llegado el momento de ponernos el casco de arquitecto. Con DDL, no manipulamos datos, sino que construimos las \"habitaciones\" y \"estructuras\" donde vivirán esos datos. Definiremos los planos de nuestras tablas, especificando qué tipo de información guardará cada columna y cómo se relacionarán entre sí.\n",
        "\n",
        "* **`CREATE TABLE`**: Es nuestro comando para levantar los cimientos. Definimos el nombre de la tabla y el plano de cada columna: su nombre (`nombre_depto`), el tipo de dato que almacenará (`TEXT`, `INTEGER`, `REAL`) y las reglas que debe seguir (`PRIMARY KEY`, `NOT NULL`, `FOREIGN KEY`).\n",
        "* **`ALTER TABLE`**: ¡El mundo cambia! Nuestra aplicación crece y nos damos cuenta de que necesitamos guardar más información. `ALTER TABLE` es la herramienta para hacer una \"remodelación\": añadir una nueva columna, cambiar el nombre de una existente o agregar una nueva regla sin tener que demoler toda la tabla.\n",
        "* **`DROP TABLE`**: Este es el botón de demolición. Úsalo con un respeto y un miedo saludables. `DROP` no solo borra los datos, sino que elimina por completo la tabla y su estructura del mapa de la base de datos. No hay un \"ctrl+z\" fácil para esto."
      ]
    },
    {
      "cell_type": "code",
      "execution_count": 8,
      "metadata": {},
      "outputs": [
        {
          "name": "stdout",
          "output_type": "stream",
          "text": [
            "🏗️  Levantando las estructuras de las tablas...\n"
          ]
        },
        {
          "data": {
            "text/plain": [
              "<sqlite3.Cursor at 0x2dec1edfe40>"
            ]
          },
          "execution_count": 8,
          "metadata": {},
          "output_type": "execute_result"
        }
      ],
      "source": [
        "# ===================================================================\n",
        "# PASO 2: EJECUTANDO COMANDOS DDL\n",
        "# ===================================================================\n",
        "\n",
        "# Usamos cursor.execute() porque estamos dando órdenes de construcción,\n",
        "# no pidiendo que nos traigan datos para ver.\n",
        "\n",
        "# 2.1. CREATE TABLE: Definiendo los planos.\n",
        "# La Clave Primaria (PRIMARY KEY) es el DNI de cada fila: única e irrepetible.\n",
        "# La Clave Foránea (FOREIGN KEY) es el pegamento que une nuestras tablas. Le dice\n",
        "# a la columna 'id_depto' de Empleados que su valor DEBE existir en la columna\n",
        "# 'id_depto' de la tabla Departamentos. ¡Así mantenemos la integridad!\n",
        "print(\"🏗️  Levantando las estructuras de las tablas...\")\n",
        "\n",
        "cursor.execute(\"\"\"\n",
        "CREATE TABLE IF NOT EXISTS Departamentos (\n",
        "    id_depto INTEGER PRIMARY KEY,\n",
        "    nombre_depto TEXT NOT NULL UNIQUE,\n",
        "    region TEXT\n",
        ");\n",
        "\"\"\")"
      ]
    },
    {
      "cell_type": "code",
      "execution_count": 11,
      "metadata": {},
      "outputs": [
        {
          "data": {
            "text/html": [
              "<div>\n",
              "<style scoped>\n",
              "    .dataframe tbody tr th:only-of-type {\n",
              "        vertical-align: middle;\n",
              "    }\n",
              "\n",
              "    .dataframe tbody tr th {\n",
              "        vertical-align: top;\n",
              "    }\n",
              "\n",
              "    .dataframe thead th {\n",
              "        text-align: right;\n",
              "    }\n",
              "</style>\n",
              "<table border=\"1\" class=\"dataframe\">\n",
              "  <thead>\n",
              "    <tr style=\"text-align: right;\">\n",
              "      <th></th>\n",
              "      <th>id_depto</th>\n",
              "      <th>nombre_depto</th>\n",
              "      <th>region</th>\n",
              "    </tr>\n",
              "  </thead>\n",
              "  <tbody>\n",
              "  </tbody>\n",
              "</table>\n",
              "</div>"
            ],
            "text/plain": [
              "Empty DataFrame\n",
              "Columns: [id_depto, nombre_depto, region]\n",
              "Index: []"
            ]
          },
          "metadata": {},
          "output_type": "display_data"
        },
        {
          "data": {
            "text/html": [
              "<div>\n",
              "<style scoped>\n",
              "    .dataframe tbody tr th:only-of-type {\n",
              "        vertical-align: middle;\n",
              "    }\n",
              "\n",
              "    .dataframe tbody tr th {\n",
              "        vertical-align: top;\n",
              "    }\n",
              "\n",
              "    .dataframe thead th {\n",
              "        text-align: right;\n",
              "    }\n",
              "</style>\n",
              "<table border=\"1\" class=\"dataframe\">\n",
              "  <thead>\n",
              "    <tr style=\"text-align: right;\">\n",
              "      <th></th>\n",
              "      <th>id_depto</th>\n",
              "      <th>nombre_depto</th>\n",
              "      <th>region</th>\n",
              "    </tr>\n",
              "  </thead>\n",
              "  <tbody>\n",
              "  </tbody>\n",
              "</table>\n",
              "</div>"
            ],
            "text/plain": [
              "Empty DataFrame\n",
              "Columns: [id_depto, nombre_depto, region]\n",
              "Index: []"
            ]
          },
          "execution_count": 11,
          "metadata": {},
          "output_type": "execute_result"
        }
      ],
      "source": [
        "ejecutar_sql(\" select * FROM Departamentos\")"
      ]
    },
    {
      "cell_type": "code",
      "execution_count": 12,
      "metadata": {},
      "outputs": [
        {
          "data": {
            "text/plain": [
              "<sqlite3.Cursor at 0x2dec1edfe40>"
            ]
          },
          "execution_count": 12,
          "metadata": {},
          "output_type": "execute_result"
        }
      ],
      "source": [
        "cursor.execute(\"\"\"\n",
        "CREATE TABLE IF NOT EXISTS Empleados (\n",
        "    id_empleado INTEGER PRIMARY KEY,\n",
        "    nombre TEXT NOT NULL,\n",
        "    apellido TEXT,\n",
        "    salario REAL CHECK(salario > 0),\n",
        "    id_depto INTEGER,\n",
        "    FOREIGN KEY (id_depto) REFERENCES Departamentos(id_depto)\n",
        ");\n",
        "\"\"\")\n"
      ]
    },
    {
      "cell_type": "code",
      "execution_count": 13,
      "metadata": {
        "colab": {
          "base_uri": "https://localhost:8080/"
        },
        "id": "3psQn-wgrQNS",
        "outputId": "be06a25d-fb03-47dc-f037-364be513d154"
      },
      "outputs": [
        {
          "name": "stdout",
          "output_type": "stream",
          "text": [
            "🛠️  Remodelando la tabla 'Empleados' para agregar la columna 'fecha_ingreso'...\n",
            "\n",
            "✅ ¡Planos finalizados y guardados! Las estructuras 'Departamentos' y 'Empleados' están listas.\n"
          ]
        }
      ],
      "source": [
        "# 2.2. ALTER TABLE: Una pequeña remodelación.\n",
        "# Nos dimos cuenta de que es crucial saber cuándo se unió un empleado a la empresa.\n",
        "try:\n",
        "    print(\"🛠️  Remodelando la tabla 'Empleados' para agregar la columna 'fecha_ingreso'...\")\n",
        "    cursor.execute(\"ALTER TABLE Empleados ADD COLUMN fecha_ingreso DATE;\")\n",
        "except sqlite3.OperationalError as e:\n",
        "    # Este bloque 'try/except' es para evitar errores si ejecutamos la celda más de una vez.\n",
        "    print(f\"⚠️  Advertencia: {e}. ¡Parece que la remodelación ya se había hecho!\")\n",
        "\n",
        "# ¡Fundamental! Como en un videojuego, después de hacer cambios importantes,\n",
        "# hay que \"guardar la partida\". conn.commit() escribe permanentemente en el archivo\n",
        "# de la base de datos todos los cambios estructurales que hemos ordenado.\n",
        "conn.commit()\n",
        "print(\"\\n✅ ¡Planos finalizados y guardados! Las estructuras 'Departamentos' y 'Empleados' están listas.\")"
      ]
    },
    {
      "cell_type": "code",
      "execution_count": null,
      "metadata": {},
      "outputs": [],
      "source": []
    },
    {
      "cell_type": "markdown",
      "metadata": {
        "id": "qmq8t_nbrU_H"
      },
      "source": [
        "## **3. DML (Data Manipulation Language): El Operador de Datos**\n",
        "\n",
        "Con las estructuras ya firmes, es hora de darles vida. Ahora nos quitamos el casco de arquitecto y nos ponemos el de operador. Con DML, vamos a poblar nuestras tablas, consultar la información y mantenerla actualizada.\n",
        "\n",
        "* **`INSERT`**: Es el comando para \"dar de alta\" o registrar nueva información. Llenaremos nuestras habitaciones vacías con los datos de los departamentos y empleados.\n",
        "* **`SELECT`**: El comando estrella y el mejor amigo del analista. Es nuestra ventana para ver, filtrar, ordenar y hacer preguntas a los datos que hemos guardado.\n",
        "* **`UPDATE`**: La realidad cambia. Un empleado recibe un aumento, un departamento cambia de nombre... `UPDATE` es el comando para editar registros que ya existen. **¡La cláusula `WHERE` es tu salvavidas aquí!** Sin ella, ¡actualizarías TODAS las filas de la tabla!\n",
        "* **`DELETE`**: Es el comando para eliminar registros. Al igual que con `UPDATE`, la cláusula `WHERE` es absolutamente crítica. Olvidarla es como apretar el botón de \"borrar todo\" por accidente."
      ]
    },
    {
      "cell_type": "code",
      "execution_count": 21,
      "metadata": {},
      "outputs": [
        {
          "data": {
            "text/plain": [
              "<sqlite3.Cursor at 0x2dec1edfe40>"
            ]
          },
          "execution_count": 21,
          "metadata": {},
          "output_type": "execute_result"
        }
      ],
      "source": [
        "cursor.execute(\"INSERT INTO Departamentos (id_depto, nombre_depto, region) VALUES (0, 'Analitica', 'Norte')\")"
      ]
    },
    {
      "cell_type": "code",
      "execution_count": 22,
      "metadata": {
        "colab": {
          "base_uri": "https://localhost:8080/",
          "height": 538
        },
        "id": "Jkv3TfSQrWoF",
        "outputId": "53aa5f67-3073-4531-bbd1-8e445eb46b3b"
      },
      "outputs": [
        {
          "name": "stdout",
          "output_type": "stream",
          "text": [
            "🚚 Insertando datos en 'Departamentos'...\n",
            "🚚 Insertando datos en 'Empleados'...\n",
            "\n",
            "✅ ¡Datos insertados y guardados con éxito!\n",
            "\n",
            "🔍 --- Inspeccionando la tabla Departamentos ---\n"
          ]
        },
        {
          "data": {
            "text/html": [
              "<div>\n",
              "<style scoped>\n",
              "    .dataframe tbody tr th:only-of-type {\n",
              "        vertical-align: middle;\n",
              "    }\n",
              "\n",
              "    .dataframe tbody tr th {\n",
              "        vertical-align: top;\n",
              "    }\n",
              "\n",
              "    .dataframe thead th {\n",
              "        text-align: right;\n",
              "    }\n",
              "</style>\n",
              "<table border=\"1\" class=\"dataframe\">\n",
              "  <thead>\n",
              "    <tr style=\"text-align: right;\">\n",
              "      <th></th>\n",
              "      <th>id_depto</th>\n",
              "      <th>nombre_depto</th>\n",
              "      <th>region</th>\n",
              "    </tr>\n",
              "  </thead>\n",
              "  <tbody>\n",
              "    <tr>\n",
              "      <th>0</th>\n",
              "      <td>0</td>\n",
              "      <td>Analitica</td>\n",
              "      <td>Norte</td>\n",
              "    </tr>\n",
              "    <tr>\n",
              "      <th>1</th>\n",
              "      <td>1</td>\n",
              "      <td>Ventas</td>\n",
              "      <td>Norte</td>\n",
              "    </tr>\n",
              "    <tr>\n",
              "      <th>2</th>\n",
              "      <td>2</td>\n",
              "      <td>Tecnología</td>\n",
              "      <td>Central</td>\n",
              "    </tr>\n",
              "    <tr>\n",
              "      <th>3</th>\n",
              "      <td>3</td>\n",
              "      <td>Recursos Humanos</td>\n",
              "      <td>Central</td>\n",
              "    </tr>\n",
              "    <tr>\n",
              "      <th>4</th>\n",
              "      <td>4</td>\n",
              "      <td>Marketing</td>\n",
              "      <td>Sur</td>\n",
              "    </tr>\n",
              "  </tbody>\n",
              "</table>\n",
              "</div>"
            ],
            "text/plain": [
              "   id_depto      nombre_depto   region\n",
              "0         0         Analitica    Norte\n",
              "1         1            Ventas    Norte\n",
              "2         2        Tecnología  Central\n",
              "3         3  Recursos Humanos  Central\n",
              "4         4         Marketing      Sur"
            ]
          },
          "metadata": {},
          "output_type": "display_data"
        },
        {
          "name": "stdout",
          "output_type": "stream",
          "text": [
            "\n",
            "🔍 --- Inspeccionando la tabla Empleados ---\n"
          ]
        },
        {
          "data": {
            "text/html": [
              "<div>\n",
              "<style scoped>\n",
              "    .dataframe tbody tr th:only-of-type {\n",
              "        vertical-align: middle;\n",
              "    }\n",
              "\n",
              "    .dataframe tbody tr th {\n",
              "        vertical-align: top;\n",
              "    }\n",
              "\n",
              "    .dataframe thead th {\n",
              "        text-align: right;\n",
              "    }\n",
              "</style>\n",
              "<table border=\"1\" class=\"dataframe\">\n",
              "  <thead>\n",
              "    <tr style=\"text-align: right;\">\n",
              "      <th></th>\n",
              "      <th>id_empleado</th>\n",
              "      <th>nombre</th>\n",
              "      <th>apellido</th>\n",
              "      <th>salario</th>\n",
              "      <th>id_depto</th>\n",
              "      <th>fecha_ingreso</th>\n",
              "    </tr>\n",
              "  </thead>\n",
              "  <tbody>\n",
              "    <tr>\n",
              "      <th>0</th>\n",
              "      <td>1</td>\n",
              "      <td>Ana</td>\n",
              "      <td>García</td>\n",
              "      <td>50000.0</td>\n",
              "      <td>2</td>\n",
              "      <td>2022-01-15</td>\n",
              "    </tr>\n",
              "    <tr>\n",
              "      <th>1</th>\n",
              "      <td>2</td>\n",
              "      <td>Luis</td>\n",
              "      <td>Martínez</td>\n",
              "      <td>75000.0</td>\n",
              "      <td>2</td>\n",
              "      <td>2021-11-20</td>\n",
              "    </tr>\n",
              "    <tr>\n",
              "      <th>2</th>\n",
              "      <td>3</td>\n",
              "      <td>Sofía</td>\n",
              "      <td>Hernández</td>\n",
              "      <td>45000.0</td>\n",
              "      <td>1</td>\n",
              "      <td>2023-03-01</td>\n",
              "    </tr>\n",
              "    <tr>\n",
              "      <th>3</th>\n",
              "      <td>4</td>\n",
              "      <td>Carlos</td>\n",
              "      <td>Pérez</td>\n",
              "      <td>48000.0</td>\n",
              "      <td>1</td>\n",
              "      <td>2022-08-10</td>\n",
              "    </tr>\n",
              "    <tr>\n",
              "      <th>4</th>\n",
              "      <td>5</td>\n",
              "      <td>Elena</td>\n",
              "      <td>Ruiz</td>\n",
              "      <td>80000.0</td>\n",
              "      <td>2</td>\n",
              "      <td>2020-05-01</td>\n",
              "    </tr>\n",
              "    <tr>\n",
              "      <th>5</th>\n",
              "      <td>6</td>\n",
              "      <td>Mario</td>\n",
              "      <td>Jiménez</td>\n",
              "      <td>35000.0</td>\n",
              "      <td>3</td>\n",
              "      <td>2023-05-15</td>\n",
              "    </tr>\n",
              "  </tbody>\n",
              "</table>\n",
              "</div>"
            ],
            "text/plain": [
              "   id_empleado  nombre   apellido  salario  id_depto fecha_ingreso\n",
              "0            1     Ana     García  50000.0         2    2022-01-15\n",
              "1            2    Luis   Martínez  75000.0         2    2021-11-20\n",
              "2            3   Sofía  Hernández  45000.0         1    2023-03-01\n",
              "3            4  Carlos      Pérez  48000.0         1    2022-08-10\n",
              "4            5   Elena       Ruiz  80000.0         2    2020-05-01\n",
              "5            6   Mario    Jiménez  35000.0         3    2023-05-15"
            ]
          },
          "metadata": {},
          "output_type": "display_data"
        }
      ],
      "source": [
        "# ===================================================================\n",
        "# PASO 3: EJECUTANDO COMANDOS DML\n",
        "# ===================================================================\n",
        "\n",
        "# 3.1. INSERT: Poblando nuestras tablas.\n",
        "# Usar 'executemany' es como contratar un equipo de mudanza en lugar de mover\n",
        "# una caja a la vez. Es mucho más eficiente para insertar múltiples filas.\n",
        "try:\n",
        "    print(\"🚚 Insertando datos en 'Departamentos'...\")\n",
        "    deptos = [\n",
        "        (1, 'Ventas', 'Norte'),\n",
        "        (2, 'Tecnología', 'Central'),\n",
        "        (3, 'Recursos Humanos', 'Central'),\n",
        "        (4, 'Marketing', 'Sur')\n",
        "    ]\n",
        "    cursor.executemany(\"INSERT INTO Departamentos (id_depto, nombre_depto, region) VALUES (?, ?, ?)\", deptos)\n",
        "\n",
        "    print(\"🚚 Insertando datos en 'Empleados'...\")\n",
        "    empleados = [\n",
        "        (1, 'Ana', 'García', 50000, 2, '2022-01-15'),\n",
        "        (2, 'Luis', 'Martínez', 75000, 2, '2021-11-20'),\n",
        "        (3, 'Sofía', 'Hernández', 45000, 1, '2023-03-01'),\n",
        "        (4, 'Carlos', 'Pérez', 48000, 1, '2022-08-10'),\n",
        "        (5, 'Elena', 'Ruiz', 80000, 2, '2020-05-01'),\n",
        "        (6, 'Mario', 'Jiménez', 35000, 3, '2023-05-15')\n",
        "    ]\n",
        "    cursor.executemany(\"INSERT INTO Empleados (id_empleado, nombre, apellido, salario, id_depto, fecha_ingreso) VALUES (?, ?, ?, ?, ?, ?)\", empleados)\n",
        "    conn.commit()\n",
        "    print(\"\\n✅ ¡Datos insertados y guardados con éxito!\")\n",
        "except sqlite3.IntegrityError:\n",
        "    print(\"\\n⚠️  Advertencia: Parece que estos datos ya fueron insertados en una ejecución anterior. ¡No se duplicarán gracias a nuestras reglas (constraints)!\")\n",
        "\n",
        "# 3.2. SELECT: Echemos un primer vistazo.\n",
        "print(\"\\n🔍 --- Inspeccionando la tabla Departamentos ---\")\n",
        "ejecutar_sql(\"SELECT * FROM Departamentos;\")\n",
        "\n",
        "print(\"\\n🔍 --- Inspeccionando la tabla Empleados ---\")\n",
        "ejecutar_sql(\"SELECT * FROM Empleados;\")"
      ]
    },
    {
      "cell_type": "code",
      "execution_count": 4,
      "metadata": {
        "colab": {
          "base_uri": "https://localhost:8080/",
          "height": 359
        },
        "id": "EJvmc4ekrYn_",
        "outputId": "a1301616-ef95-444d-b219-9cdf9bbe5b9b"
      },
      "outputs": [
        {
          "name": "stdout",
          "output_type": "stream",
          "text": [
            "✍️  Actualizando el salario de Elena Ruiz...\n",
            "Verificando la actualización:\n"
          ]
        },
        {
          "data": {
            "text/html": [
              "<div>\n",
              "<style scoped>\n",
              "    .dataframe tbody tr th:only-of-type {\n",
              "        vertical-align: middle;\n",
              "    }\n",
              "\n",
              "    .dataframe tbody tr th {\n",
              "        vertical-align: top;\n",
              "    }\n",
              "\n",
              "    .dataframe thead th {\n",
              "        text-align: right;\n",
              "    }\n",
              "</style>\n",
              "<table border=\"1\" class=\"dataframe\">\n",
              "  <thead>\n",
              "    <tr style=\"text-align: right;\">\n",
              "      <th></th>\n",
              "      <th>id_empleado</th>\n",
              "      <th>nombre</th>\n",
              "      <th>apellido</th>\n",
              "      <th>salario</th>\n",
              "      <th>id_depto</th>\n",
              "      <th>fecha_ingreso</th>\n",
              "    </tr>\n",
              "  </thead>\n",
              "  <tbody>\n",
              "    <tr>\n",
              "      <th>0</th>\n",
              "      <td>5</td>\n",
              "      <td>Elena</td>\n",
              "      <td>Ruiz</td>\n",
              "      <td>82500.0</td>\n",
              "      <td>2</td>\n",
              "      <td>2020-05-01</td>\n",
              "    </tr>\n",
              "  </tbody>\n",
              "</table>\n",
              "</div>"
            ],
            "text/plain": [
              "   id_empleado nombre apellido  salario  id_depto fecha_ingreso\n",
              "0            5  Elena     Ruiz  82500.0         2    2020-05-01"
            ]
          },
          "metadata": {},
          "output_type": "display_data"
        },
        {
          "name": "stdout",
          "output_type": "stream",
          "text": [
            "\n",
            "🗑️  Eliminando al empleado Mario Jiménez...\n",
            "Verificando la eliminación (la tabla no debería contener a Mario):\n"
          ]
        },
        {
          "data": {
            "text/html": [
              "<div>\n",
              "<style scoped>\n",
              "    .dataframe tbody tr th:only-of-type {\n",
              "        vertical-align: middle;\n",
              "    }\n",
              "\n",
              "    .dataframe tbody tr th {\n",
              "        vertical-align: top;\n",
              "    }\n",
              "\n",
              "    .dataframe thead th {\n",
              "        text-align: right;\n",
              "    }\n",
              "</style>\n",
              "<table border=\"1\" class=\"dataframe\">\n",
              "  <thead>\n",
              "    <tr style=\"text-align: right;\">\n",
              "      <th></th>\n",
              "      <th>id_empleado</th>\n",
              "      <th>nombre</th>\n",
              "      <th>apellido</th>\n",
              "      <th>salario</th>\n",
              "      <th>id_depto</th>\n",
              "      <th>fecha_ingreso</th>\n",
              "    </tr>\n",
              "  </thead>\n",
              "  <tbody>\n",
              "    <tr>\n",
              "      <th>0</th>\n",
              "      <td>1</td>\n",
              "      <td>Ana</td>\n",
              "      <td>García</td>\n",
              "      <td>50000.0</td>\n",
              "      <td>2</td>\n",
              "      <td>2022-01-15</td>\n",
              "    </tr>\n",
              "    <tr>\n",
              "      <th>1</th>\n",
              "      <td>2</td>\n",
              "      <td>Luis</td>\n",
              "      <td>Martínez</td>\n",
              "      <td>75000.0</td>\n",
              "      <td>2</td>\n",
              "      <td>2021-11-20</td>\n",
              "    </tr>\n",
              "    <tr>\n",
              "      <th>2</th>\n",
              "      <td>3</td>\n",
              "      <td>Sofía</td>\n",
              "      <td>Hernández</td>\n",
              "      <td>45000.0</td>\n",
              "      <td>1</td>\n",
              "      <td>2023-03-01</td>\n",
              "    </tr>\n",
              "    <tr>\n",
              "      <th>3</th>\n",
              "      <td>4</td>\n",
              "      <td>Carlos</td>\n",
              "      <td>Pérez</td>\n",
              "      <td>48000.0</td>\n",
              "      <td>1</td>\n",
              "      <td>2022-08-10</td>\n",
              "    </tr>\n",
              "    <tr>\n",
              "      <th>4</th>\n",
              "      <td>5</td>\n",
              "      <td>Elena</td>\n",
              "      <td>Ruiz</td>\n",
              "      <td>82500.0</td>\n",
              "      <td>2</td>\n",
              "      <td>2020-05-01</td>\n",
              "    </tr>\n",
              "  </tbody>\n",
              "</table>\n",
              "</div>"
            ],
            "text/plain": [
              "   id_empleado  nombre   apellido  salario  id_depto fecha_ingreso\n",
              "0            1     Ana     García  50000.0         2    2022-01-15\n",
              "1            2    Luis   Martínez  75000.0         2    2021-11-20\n",
              "2            3   Sofía  Hernández  45000.0         1    2023-03-01\n",
              "3            4  Carlos      Pérez  48000.0         1    2022-08-10\n",
              "4            5   Elena       Ruiz  82500.0         2    2020-05-01"
            ]
          },
          "metadata": {},
          "output_type": "display_data"
        }
      ],
      "source": [
        "# ===================================================================\n",
        "# PASO 3 (CONTINUACIÓN): MODIFICANDO DATOS\n",
        "# ===================================================================\n",
        "\n",
        "# 3.3. UPDATE: Elena Ruiz ha sido promovida. ¡Aumentemos su salario!\n",
        "# La cláusula WHERE es crucial: nos aseguramos de actualizar SOLO el registro de Elena.\n",
        "print(\"✍️  Actualizando el salario de Elena Ruiz...\")\n",
        "cursor.execute(\"UPDATE Empleados SET salario = 82500 WHERE id_empleado = 5;\")\n",
        "conn.commit()\n",
        "\n",
        "print(\"Verificando la actualización:\")\n",
        "ejecutar_sql(\"SELECT * FROM Empleados WHERE id_empleado = 5;\")\n",
        "\n",
        "\n",
        "# 3.4. DELETE: Lamentablemente, Mario Jiménez ha dejado la empresa.\n",
        "# De nuevo, la cláusula WHERE nos asegura que solo borremos a Mario.\n",
        "print(\"\\n🗑️  Eliminando al empleado Mario Jiménez...\")\n",
        "cursor.execute(\"DELETE FROM Empleados WHERE id_empleado = 6;\")\n",
        "conn.commit()\n",
        "\n",
        "print(\"Verificando la eliminación (la tabla no debería contener a Mario):\")\n",
        "ejecutar_sql(\"SELECT * FROM Empleados;\")"
      ]
    },
    {
      "cell_type": "markdown",
      "metadata": {
        "id": "VCkVsxkXrdxk"
      },
      "source": [
        "## **4. Consultas Avanzadas: Donde Ocurre la Magia del Análisis**\n",
        "\n",
        "Ya somos buenos operadores, ahora convirtámonos en analistas de datos. Aquí es donde SQL brilla, permitiéndonos cruzar información, organizar consultas complejas y realizar cálculos sofisticados que van mucho más allá de una simple selección de datos.\n",
        "\n",
        "* **`JOIN`**: Es el arte de conectar mundos. Si los datos de `Empleados` son un universo y los de `Departamentos` son otro, `JOIN` es el puente que nos permite viajar entre ellos y combinar su información para obtener una visión completa.\n",
        "* **`CTE (Common Table Expressions)`**: El mejor amigo de la claridad. Las CTEs, que se inician con `WITH`, nos permiten construir nuestras consultas paso a paso. En lugar de anidar subconsultas creando un \"código espagueti\" ilegible, definimos bloques lógicos y reutilizables. Es como preparar los ingredientes (`mise en place`) antes de cocinar el plato principal.\n",
        "* **`Funciones de Ventana`**: Esta es la verdadera joya del SQL moderno para el análisis. A diferencia de `GROUP BY` que colapsa las filas en un solo resultado agregado, una función de ventana realiza un cálculo sobre un conjunto de filas (la \"ventana\") pero **mantiene intactas las filas originales**. Esto nos permite ver un valor individual y, en la misma fila, un cálculo relacionado con su grupo (como un ranking, un promedio móvil o una suma acumulada)."
      ]
    },
    {
      "cell_type": "code",
      "execution_count": 5,
      "metadata": {
        "colab": {
          "base_uri": "https://localhost:8080/",
          "height": 511
        },
        "id": "2k6UV16Trbtb",
        "outputId": "9f4060a0-e390-4c06-804c-3ebca0f99112"
      },
      "outputs": [
        {
          "name": "stdout",
          "output_type": "stream",
          "text": [
            "🌉 --- INNER JOIN: ¿Quién trabaja en qué departamento? ---\n"
          ]
        },
        {
          "data": {
            "text/html": [
              "<div>\n",
              "<style scoped>\n",
              "    .dataframe tbody tr th:only-of-type {\n",
              "        vertical-align: middle;\n",
              "    }\n",
              "\n",
              "    .dataframe tbody tr th {\n",
              "        vertical-align: top;\n",
              "    }\n",
              "\n",
              "    .dataframe thead th {\n",
              "        text-align: right;\n",
              "    }\n",
              "</style>\n",
              "<table border=\"1\" class=\"dataframe\">\n",
              "  <thead>\n",
              "    <tr style=\"text-align: right;\">\n",
              "      <th></th>\n",
              "      <th>nombre</th>\n",
              "      <th>apellido</th>\n",
              "      <th>nombre_depto</th>\n",
              "      <th>region</th>\n",
              "    </tr>\n",
              "  </thead>\n",
              "  <tbody>\n",
              "    <tr>\n",
              "      <th>0</th>\n",
              "      <td>Ana</td>\n",
              "      <td>García</td>\n",
              "      <td>Tecnología</td>\n",
              "      <td>Central</td>\n",
              "    </tr>\n",
              "    <tr>\n",
              "      <th>1</th>\n",
              "      <td>Luis</td>\n",
              "      <td>Martínez</td>\n",
              "      <td>Tecnología</td>\n",
              "      <td>Central</td>\n",
              "    </tr>\n",
              "    <tr>\n",
              "      <th>2</th>\n",
              "      <td>Sofía</td>\n",
              "      <td>Hernández</td>\n",
              "      <td>Ventas</td>\n",
              "      <td>Norte</td>\n",
              "    </tr>\n",
              "    <tr>\n",
              "      <th>3</th>\n",
              "      <td>Carlos</td>\n",
              "      <td>Pérez</td>\n",
              "      <td>Ventas</td>\n",
              "      <td>Norte</td>\n",
              "    </tr>\n",
              "    <tr>\n",
              "      <th>4</th>\n",
              "      <td>Elena</td>\n",
              "      <td>Ruiz</td>\n",
              "      <td>Tecnología</td>\n",
              "      <td>Central</td>\n",
              "    </tr>\n",
              "  </tbody>\n",
              "</table>\n",
              "</div>"
            ],
            "text/plain": [
              "   nombre   apellido nombre_depto   region\n",
              "0     Ana     García   Tecnología  Central\n",
              "1    Luis   Martínez   Tecnología  Central\n",
              "2   Sofía  Hernández       Ventas    Norte\n",
              "3  Carlos      Pérez       Ventas    Norte\n",
              "4   Elena       Ruiz   Tecnología  Central"
            ]
          },
          "metadata": {},
          "output_type": "display_data"
        },
        {
          "name": "stdout",
          "output_type": "stream",
          "text": [
            "\n",
            "🌉 --- LEFT JOIN: ¿Qué departamentos no tienen empleados? ---\n"
          ]
        },
        {
          "data": {
            "text/html": [
              "<div>\n",
              "<style scoped>\n",
              "    .dataframe tbody tr th:only-of-type {\n",
              "        vertical-align: middle;\n",
              "    }\n",
              "\n",
              "    .dataframe tbody tr th {\n",
              "        vertical-align: top;\n",
              "    }\n",
              "\n",
              "    .dataframe thead th {\n",
              "        text-align: right;\n",
              "    }\n",
              "</style>\n",
              "<table border=\"1\" class=\"dataframe\">\n",
              "  <thead>\n",
              "    <tr style=\"text-align: right;\">\n",
              "      <th></th>\n",
              "      <th>nombre_depto</th>\n",
              "      <th>nombre_empleado</th>\n",
              "      <th>apellido_empleado</th>\n",
              "    </tr>\n",
              "  </thead>\n",
              "  <tbody>\n",
              "    <tr>\n",
              "      <th>0</th>\n",
              "      <td>Marketing</td>\n",
              "      <td>None</td>\n",
              "      <td>None</td>\n",
              "    </tr>\n",
              "    <tr>\n",
              "      <th>1</th>\n",
              "      <td>Recursos Humanos</td>\n",
              "      <td>None</td>\n",
              "      <td>None</td>\n",
              "    </tr>\n",
              "    <tr>\n",
              "      <th>2</th>\n",
              "      <td>Tecnología</td>\n",
              "      <td>Ana</td>\n",
              "      <td>García</td>\n",
              "    </tr>\n",
              "    <tr>\n",
              "      <th>3</th>\n",
              "      <td>Tecnología</td>\n",
              "      <td>Elena</td>\n",
              "      <td>Ruiz</td>\n",
              "    </tr>\n",
              "    <tr>\n",
              "      <th>4</th>\n",
              "      <td>Tecnología</td>\n",
              "      <td>Luis</td>\n",
              "      <td>Martínez</td>\n",
              "    </tr>\n",
              "    <tr>\n",
              "      <th>5</th>\n",
              "      <td>Ventas</td>\n",
              "      <td>Carlos</td>\n",
              "      <td>Pérez</td>\n",
              "    </tr>\n",
              "    <tr>\n",
              "      <th>6</th>\n",
              "      <td>Ventas</td>\n",
              "      <td>Sofía</td>\n",
              "      <td>Hernández</td>\n",
              "    </tr>\n",
              "  </tbody>\n",
              "</table>\n",
              "</div>"
            ],
            "text/plain": [
              "       nombre_depto nombre_empleado apellido_empleado\n",
              "0         Marketing            None              None\n",
              "1  Recursos Humanos            None              None\n",
              "2        Tecnología             Ana            García\n",
              "3        Tecnología           Elena              Ruiz\n",
              "4        Tecnología            Luis          Martínez\n",
              "5            Ventas          Carlos             Pérez\n",
              "6            Ventas           Sofía         Hernández"
            ]
          },
          "metadata": {},
          "output_type": "display_data"
        }
      ],
      "source": [
        "# ===================================================================\n",
        "# PASO 4: EJECUTANDO CONSULTAS AVANZADAS\n",
        "# ===================================================================\n",
        "\n",
        "# 4.1. JOINs: Cruzando información para obtener respuestas completas.\n",
        "print(\"🌉 --- INNER JOIN: ¿Quién trabaja en qué departamento? ---\")\n",
        "query_inner = \"\"\"\n",
        "SELECT\n",
        "    e.nombre,\n",
        "    e.apellido,\n",
        "    d.nombre_depto,\n",
        "    d.region\n",
        "FROM\n",
        "    Empleados e\n",
        "INNER JOIN\n",
        "    Departamentos d ON e.id_depto = d.id_depto; -- La condición que forma el puente\n",
        "\"\"\"\n",
        "ejecutar_sql(query_inner)\n",
        "\n",
        "\n",
        "print(\"\\n🌉 --- LEFT JOIN: ¿Qué departamentos no tienen empleados? ---\")\n",
        "# El LEFT JOIN nos trae TODO de la tabla de la izquierda (Departamentos) y solo lo que coincida de la derecha (Empleados).\n",
        "# Veremos que 'Marketing' aparece, pero con datos de empleado vacíos (NULL), ¡porque nadie trabaja ahí todavía!\n",
        "query_left = \"\"\"\n",
        "SELECT\n",
        "    d.nombre_depto,\n",
        "    e.nombre AS nombre_empleado,\n",
        "    e.apellido AS apellido_empleado\n",
        "FROM\n",
        "    Departamentos d\n",
        "LEFT JOIN\n",
        "    Empleados e ON d.id_depto = e.id_depto;\n",
        "\"\"\"\n",
        "ejecutar_sql(query_left)"
      ]
    },
    {
      "cell_type": "code",
      "execution_count": 6,
      "metadata": {
        "colab": {
          "base_uri": "https://localhost:8080/",
          "height": 130
        },
        "id": "iFC2lF6brhzZ",
        "outputId": "791e9d54-2c5d-4f06-e46d-2309d60e53c9"
      },
      "outputs": [
        {
          "name": "stdout",
          "output_type": "stream",
          "text": [
            "🧑‍🍳 --- CTE: Encontrando empleados con salario superior al promedio ---\n"
          ]
        },
        {
          "data": {
            "text/html": [
              "<div>\n",
              "<style scoped>\n",
              "    .dataframe tbody tr th:only-of-type {\n",
              "        vertical-align: middle;\n",
              "    }\n",
              "\n",
              "    .dataframe tbody tr th {\n",
              "        vertical-align: top;\n",
              "    }\n",
              "\n",
              "    .dataframe thead th {\n",
              "        text-align: right;\n",
              "    }\n",
              "</style>\n",
              "<table border=\"1\" class=\"dataframe\">\n",
              "  <thead>\n",
              "    <tr style=\"text-align: right;\">\n",
              "      <th></th>\n",
              "      <th>nombre</th>\n",
              "      <th>apellido</th>\n",
              "      <th>salario</th>\n",
              "    </tr>\n",
              "  </thead>\n",
              "  <tbody>\n",
              "    <tr>\n",
              "      <th>0</th>\n",
              "      <td>Elena</td>\n",
              "      <td>Ruiz</td>\n",
              "      <td>82500.0</td>\n",
              "    </tr>\n",
              "    <tr>\n",
              "      <th>1</th>\n",
              "      <td>Luis</td>\n",
              "      <td>Martínez</td>\n",
              "      <td>75000.0</td>\n",
              "    </tr>\n",
              "  </tbody>\n",
              "</table>\n",
              "</div>"
            ],
            "text/plain": [
              "  nombre  apellido  salario\n",
              "0  Elena      Ruiz  82500.0\n",
              "1   Luis  Martínez  75000.0"
            ]
          },
          "metadata": {},
          "output_type": "display_data"
        }
      ],
      "source": [
        "# 4.2. CTEs: Escribiendo código limpio y lógico.\n",
        "# Pregunta: ¿Qué empleados ganan más que el promedio de toda la empresa?\n",
        "\n",
        "print(\"🧑‍🍳 --- CTE: Encontrando empleados con salario superior al promedio ---\")\n",
        "# Primero, preparamos el ingrediente: calculamos el salario promedio en una CTE.\n",
        "# Luego, cocinamos el plato principal: seleccionamos a los empleados comparándolos con nuestro ingrediente.\n",
        "query_cte = \"\"\"\n",
        "WITH SalarioPromedio AS (\n",
        "    SELECT AVG(salario) as avg_sal\n",
        "    FROM Empleados\n",
        ")\n",
        "SELECT\n",
        "    e.nombre,\n",
        "    e.apellido,\n",
        "    e.salario\n",
        "FROM\n",
        "    Empleados e, SalarioPromedio sp\n",
        "WHERE\n",
        "    e.salario > sp.avg_sal\n",
        "ORDER BY\n",
        "    e.salario DESC;\n",
        "\"\"\"\n",
        "ejecutar_sql(query_cte)"
      ]
    },
    {
      "cell_type": "code",
      "execution_count": 7,
      "metadata": {
        "colab": {
          "base_uri": "https://localhost:8080/",
          "height": 224
        },
        "id": "cUAKn97frj1Z",
        "outputId": "b2ba1f58-f1d8-4a6a-c64d-907a1b914fa4"
      },
      "outputs": [
        {
          "name": "stdout",
          "output_type": "stream",
          "text": [
            "🏆 --- Funciones de Ventana: Ranking de salarios por departamento ---\n"
          ]
        },
        {
          "data": {
            "text/html": [
              "<div>\n",
              "<style scoped>\n",
              "    .dataframe tbody tr th:only-of-type {\n",
              "        vertical-align: middle;\n",
              "    }\n",
              "\n",
              "    .dataframe tbody tr th {\n",
              "        vertical-align: top;\n",
              "    }\n",
              "\n",
              "    .dataframe thead th {\n",
              "        text-align: right;\n",
              "    }\n",
              "</style>\n",
              "<table border=\"1\" class=\"dataframe\">\n",
              "  <thead>\n",
              "    <tr style=\"text-align: right;\">\n",
              "      <th></th>\n",
              "      <th>nombre</th>\n",
              "      <th>nombre_depto</th>\n",
              "      <th>salario</th>\n",
              "      <th>ranking_en_depto</th>\n",
              "    </tr>\n",
              "  </thead>\n",
              "  <tbody>\n",
              "    <tr>\n",
              "      <th>0</th>\n",
              "      <td>Elena</td>\n",
              "      <td>Tecnología</td>\n",
              "      <td>82500.0</td>\n",
              "      <td>1</td>\n",
              "    </tr>\n",
              "    <tr>\n",
              "      <th>1</th>\n",
              "      <td>Luis</td>\n",
              "      <td>Tecnología</td>\n",
              "      <td>75000.0</td>\n",
              "      <td>2</td>\n",
              "    </tr>\n",
              "    <tr>\n",
              "      <th>2</th>\n",
              "      <td>Ana</td>\n",
              "      <td>Tecnología</td>\n",
              "      <td>50000.0</td>\n",
              "      <td>3</td>\n",
              "    </tr>\n",
              "    <tr>\n",
              "      <th>3</th>\n",
              "      <td>Carlos</td>\n",
              "      <td>Ventas</td>\n",
              "      <td>48000.0</td>\n",
              "      <td>1</td>\n",
              "    </tr>\n",
              "    <tr>\n",
              "      <th>4</th>\n",
              "      <td>Sofía</td>\n",
              "      <td>Ventas</td>\n",
              "      <td>45000.0</td>\n",
              "      <td>2</td>\n",
              "    </tr>\n",
              "  </tbody>\n",
              "</table>\n",
              "</div>"
            ],
            "text/plain": [
              "   nombre nombre_depto  salario  ranking_en_depto\n",
              "0   Elena   Tecnología  82500.0                 1\n",
              "1    Luis   Tecnología  75000.0                 2\n",
              "2     Ana   Tecnología  50000.0                 3\n",
              "3  Carlos       Ventas  48000.0                 1\n",
              "4   Sofía       Ventas  45000.0                 2"
            ]
          },
          "metadata": {},
          "output_type": "display_data"
        }
      ],
      "source": [
        "# 4.3. Funciones de Ventana: Análisis en otro nivel.\n",
        "# Pregunta: ¿Cuál es el ranking de salarios de los empleados DENTRO de su propio departamento?\n",
        "\n",
        "print(\"🏆 --- Funciones de Ventana: Ranking de salarios por departamento ---\")\n",
        "# PARTITION BY d.nombre_depto: Crea una \"ventana\" o grupo separado para cada departamento.\n",
        "# ORDER BY e.salario DESC: Dentro de cada ventana, ordena a los empleados de mayor a menor salario.\n",
        "# RANK(): Asigna el ranking según ese orden. El cálculo se reinicia para cada nuevo departamento.\n",
        "query_window = \"\"\"\n",
        "SELECT\n",
        "    e.nombre,\n",
        "    d.nombre_depto,\n",
        "    e.salario,\n",
        "    RANK() OVER (PARTITION BY d.nombre_depto ORDER BY e.salario DESC) as ranking_en_depto\n",
        "FROM\n",
        "    Empleados e\n",
        "JOIN\n",
        "    Departamentos d ON e.id_depto = d.id_depto;\n",
        "\"\"\"\n",
        "ejecutar_sql(query_window)"
      ]
    },
    {
      "cell_type": "markdown",
      "metadata": {
        "id": "LVCoYVdArm_P"
      },
      "source": [
        "## **5. Cierre de Laboratorio**\n",
        "\n",
        "¡Felicidades! Has completado un recorrido práctico por las capacidades más importantes de SQL.\n",
        "\n",
        "Como buena práctica, siempre que terminamos de trabajar con una base de datos, debemos cerrar la conexión. Esto libera los recursos y asegura que todos los cambios se hayan guardado correctamente en el archivo."
      ]
    },
    {
      "cell_type": "code",
      "execution_count": 8,
      "metadata": {
        "colab": {
          "base_uri": "https://localhost:8080/"
        },
        "id": "ltK2SN4-rldX",
        "outputId": "4ae339be-b8d2-47b5-9b13-c379f3a2356a"
      },
      "outputs": [
        {
          "name": "stdout",
          "output_type": "stream",
          "text": [
            "Conexión a la base de datos cerrada.\n"
          ]
        }
      ],
      "source": [
        "# Cerramos la conexión\n",
        "conn.close()\n",
        "print(\"Conexión a la base de datos cerrada.\")"
      ]
    }
  ],
  "metadata": {
    "colab": {
      "provenance": []
    },
    "kernelspec": {
      "display_name": "diplomado_env",
      "language": "python",
      "name": "python3"
    },
    "language_info": {
      "codemirror_mode": {
        "name": "ipython",
        "version": 3
      },
      "file_extension": ".py",
      "mimetype": "text/x-python",
      "name": "python",
      "nbconvert_exporter": "python",
      "pygments_lexer": "ipython3",
      "version": "3.11.13"
    }
  },
  "nbformat": 4,
  "nbformat_minor": 0
}
